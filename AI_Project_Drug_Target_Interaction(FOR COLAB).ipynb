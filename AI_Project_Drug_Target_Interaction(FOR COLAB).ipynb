{
  "metadata": {
    "kernelspec": {
      "language": "python",
      "display_name": "Python 3",
      "name": "python3"
    },
    "language_info": {
      "name": "python",
      "version": "3.10.10",
      "mimetype": "text/x-python",
      "codemirror_mode": {
        "name": "ipython",
        "version": 3
      },
      "pygments_lexer": "ipython3",
      "nbconvert_exporter": "python",
      "file_extension": ".py"
    },
    "colab": {
      "provenance": []
    }
  },
  "nbformat_minor": 0,
  "nbformat": 4,
  "cells": [
    {
      "cell_type": "code",
      "source": [
        "# This Python 3 environment comes with many helpful analytics libraries installed\n",
        "# It is defined by the kaggle/python Docker image: https://github.com/kaggle/docker-python\n",
        "# For example, here's several helpful packages to load\n",
        "\n",
        "import numpy as np # linear algebra\n",
        "import pandas as pd # data processing, CSV file I/O (e.g. pd.read_csv)\n",
        "\n",
        "# Input data files are available in the read-only \"../input/\" directory\n",
        "# For example, running this (by clicking run or pressing Shift+Enter) will list all files under the input directory\n",
        "\n",
        "import os\n",
        "for dirname, _, filenames in os.walk('/kaggle/input'):\n",
        "    for filename in filenames:\n",
        "        print(os.path.join(dirname, filename))\n",
        "\n",
        "# You can write up to 20GB to the current directory (/kaggle/working/) that gets preserved as output when you create a version using \"Save & Run All\" \n",
        "# You can also write temporary files to /kaggle/temp/, but they won't be saved outside of the current session"
      ],
      "metadata": {
        "_uuid": "8f2839f25d086af736a60e9eeb907d3b93b6e0e5",
        "_cell_guid": "b1076dfc-b9ad-4769-8c92-a6c4dae69d19",
        "execution": {
          "iopub.status.busy": "2023-05-12T15:30:09.963528Z",
          "iopub.execute_input": "2023-05-12T15:30:09.964207Z",
          "iopub.status.idle": "2023-05-12T15:30:10.008374Z",
          "shell.execute_reply.started": "2023-05-12T15:30:09.964172Z",
          "shell.execute_reply": "2023-05-12T15:30:10.007247Z"
        },
        "trusted": true,
        "id": "s2WaLJI0_mDM"
      },
      "execution_count": 1,
      "outputs": []
    },
    {
      "cell_type": "markdown",
      "source": [
        "# Installing the necessary libraries"
      ],
      "metadata": {
        "id": "ql0e7eNA_mDP"
      }
    },
    {
      "cell_type": "code",
      "source": [
        "!pip install tape-proteins\n",
        "!pip install transformers\n",
        "!pip install torch-geometric\n",
        "!pip install pyTDC"
      ],
      "metadata": {
        "execution": {
          "iopub.status.busy": "2023-05-12T15:30:10.471323Z",
          "iopub.execute_input": "2023-05-12T15:30:10.472035Z",
          "iopub.status.idle": "2023-05-12T15:31:29.557633Z",
          "shell.execute_reply.started": "2023-05-12T15:30:10.471999Z",
          "shell.execute_reply": "2023-05-12T15:31:29.556336Z"
        },
        "trusted": true,
        "id": "5y037bGn_mDR",
        "outputId": "3b43bca4-a00a-4bfd-9a67-696b10c5610d",
        "colab": {
          "base_uri": "https://localhost:8080/",
          "height": 1000
        }
      },
      "execution_count": 2,
      "outputs": [
        {
          "output_type": "stream",
          "name": "stdout",
          "text": [
            "Looking in indexes: https://pypi.org/simple, https://us-python.pkg.dev/colab-wheels/public/simple/\n",
            "Collecting tape-proteins\n",
            "  Downloading tape_proteins-0.5-py3-none-any.whl (68 kB)\n",
            "\u001b[2K     \u001b[90m━━━━━━━━━━━━━━━━━━━━━━━━━━━━━━━━━━━━━━━━\u001b[0m \u001b[32m68.9/68.9 kB\u001b[0m \u001b[31m2.8 MB/s\u001b[0m eta \u001b[36m0:00:00\u001b[0m\n",
            "\u001b[?25hRequirement already satisfied: tqdm in /usr/local/lib/python3.10/dist-packages (from tape-proteins) (4.65.0)\n",
            "Collecting tensorboardX (from tape-proteins)\n",
            "  Downloading tensorboardX-2.6-py2.py3-none-any.whl (114 kB)\n",
            "\u001b[2K     \u001b[90m━━━━━━━━━━━━━━━━━━━━━━━━━━━━━━━━━━━━━━━\u001b[0m \u001b[32m114.5/114.5 kB\u001b[0m \u001b[31m6.8 MB/s\u001b[0m eta \u001b[36m0:00:00\u001b[0m\n",
            "\u001b[?25hRequirement already satisfied: scipy in /usr/local/lib/python3.10/dist-packages (from tape-proteins) (1.10.1)\n",
            "Collecting lmdb (from tape-proteins)\n",
            "  Downloading lmdb-1.4.1-cp310-cp310-manylinux_2_17_x86_64.manylinux2014_x86_64.whl (299 kB)\n",
            "\u001b[2K     \u001b[90m━━━━━━━━━━━━━━━━━━━━━━━━━━━━━━━━━━━━━━\u001b[0m \u001b[32m299.2/299.2 kB\u001b[0m \u001b[31m17.5 MB/s\u001b[0m eta \u001b[36m0:00:00\u001b[0m\n",
            "\u001b[?25hCollecting boto3 (from tape-proteins)\n",
            "  Downloading boto3-1.26.133-py3-none-any.whl (135 kB)\n",
            "\u001b[2K     \u001b[90m━━━━━━━━━━━━━━━━━━━━━━━━━━━━━━━━━━━━━━\u001b[0m \u001b[32m135.6/135.6 kB\u001b[0m \u001b[31m14.3 MB/s\u001b[0m eta \u001b[36m0:00:00\u001b[0m\n",
            "\u001b[?25hRequirement already satisfied: requests in /usr/local/lib/python3.10/dist-packages (from tape-proteins) (2.27.1)\n",
            "Collecting biopython (from tape-proteins)\n",
            "  Downloading biopython-1.81-cp310-cp310-manylinux_2_17_x86_64.manylinux2014_x86_64.whl (3.1 MB)\n",
            "\u001b[2K     \u001b[90m━━━━━━━━━━━━━━━━━━━━━━━━━━━━━━━━━━━━━━━━\u001b[0m \u001b[32m3.1/3.1 MB\u001b[0m \u001b[31m56.1 MB/s\u001b[0m eta \u001b[36m0:00:00\u001b[0m\n",
            "\u001b[?25hRequirement already satisfied: filelock in /usr/local/lib/python3.10/dist-packages (from tape-proteins) (3.12.0)\n",
            "Requirement already satisfied: numpy in /usr/local/lib/python3.10/dist-packages (from biopython->tape-proteins) (1.22.4)\n",
            "Collecting botocore<1.30.0,>=1.29.133 (from boto3->tape-proteins)\n",
            "  Downloading botocore-1.29.133-py3-none-any.whl (10.7 MB)\n",
            "\u001b[2K     \u001b[90m━━━━━━━━━━━━━━━━━━━━━━━━━━━━━━━━━━━━━━━━\u001b[0m \u001b[32m10.7/10.7 MB\u001b[0m \u001b[31m67.4 MB/s\u001b[0m eta \u001b[36m0:00:00\u001b[0m\n",
            "\u001b[?25hCollecting jmespath<2.0.0,>=0.7.1 (from boto3->tape-proteins)\n",
            "  Downloading jmespath-1.0.1-py3-none-any.whl (20 kB)\n",
            "Collecting s3transfer<0.7.0,>=0.6.0 (from boto3->tape-proteins)\n",
            "  Downloading s3transfer-0.6.1-py3-none-any.whl (79 kB)\n",
            "\u001b[2K     \u001b[90m━━━━━━━━━━━━━━━━━━━━━━━━━━━━━━━━━━━━━━━━\u001b[0m \u001b[32m79.8/79.8 kB\u001b[0m \u001b[31m10.1 MB/s\u001b[0m eta \u001b[36m0:00:00\u001b[0m\n",
            "\u001b[?25hRequirement already satisfied: urllib3<1.27,>=1.21.1 in /usr/local/lib/python3.10/dist-packages (from requests->tape-proteins) (1.26.15)\n",
            "Requirement already satisfied: certifi>=2017.4.17 in /usr/local/lib/python3.10/dist-packages (from requests->tape-proteins) (2022.12.7)\n",
            "Requirement already satisfied: charset-normalizer~=2.0.0 in /usr/local/lib/python3.10/dist-packages (from requests->tape-proteins) (2.0.12)\n",
            "Requirement already satisfied: idna<4,>=2.5 in /usr/local/lib/python3.10/dist-packages (from requests->tape-proteins) (3.4)\n",
            "Requirement already satisfied: packaging in /usr/local/lib/python3.10/dist-packages (from tensorboardX->tape-proteins) (23.1)\n",
            "Requirement already satisfied: protobuf<4,>=3.8.0 in /usr/local/lib/python3.10/dist-packages (from tensorboardX->tape-proteins) (3.20.3)\n",
            "Requirement already satisfied: python-dateutil<3.0.0,>=2.1 in /usr/local/lib/python3.10/dist-packages (from botocore<1.30.0,>=1.29.133->boto3->tape-proteins) (2.8.2)\n",
            "Requirement already satisfied: six>=1.5 in /usr/local/lib/python3.10/dist-packages (from python-dateutil<3.0.0,>=2.1->botocore<1.30.0,>=1.29.133->boto3->tape-proteins) (1.16.0)\n",
            "Installing collected packages: lmdb, tensorboardX, jmespath, biopython, botocore, s3transfer, boto3, tape-proteins\n",
            "Successfully installed biopython-1.81 boto3-1.26.133 botocore-1.29.133 jmespath-1.0.1 lmdb-1.4.1 s3transfer-0.6.1 tape-proteins-0.5 tensorboardX-2.6\n",
            "Looking in indexes: https://pypi.org/simple, https://us-python.pkg.dev/colab-wheels/public/simple/\n",
            "Collecting transformers\n",
            "  Downloading transformers-4.29.1-py3-none-any.whl (7.1 MB)\n",
            "\u001b[2K     \u001b[90m━━━━━━━━━━━━━━━━━━━━━━━━━━━━━━━━━━━━━━━━\u001b[0m \u001b[32m7.1/7.1 MB\u001b[0m \u001b[31m38.8 MB/s\u001b[0m eta \u001b[36m0:00:00\u001b[0m\n",
            "\u001b[?25hRequirement already satisfied: filelock in /usr/local/lib/python3.10/dist-packages (from transformers) (3.12.0)\n",
            "Collecting huggingface-hub<1.0,>=0.14.1 (from transformers)\n",
            "  Downloading huggingface_hub-0.14.1-py3-none-any.whl (224 kB)\n",
            "\u001b[2K     \u001b[90m━━━━━━━━━━━━━━━━━━━━━━━━━━━━━━━━━━━━━━\u001b[0m \u001b[32m224.5/224.5 kB\u001b[0m \u001b[31m26.9 MB/s\u001b[0m eta \u001b[36m0:00:00\u001b[0m\n",
            "\u001b[?25hRequirement already satisfied: numpy>=1.17 in /usr/local/lib/python3.10/dist-packages (from transformers) (1.22.4)\n",
            "Requirement already satisfied: packaging>=20.0 in /usr/local/lib/python3.10/dist-packages (from transformers) (23.1)\n",
            "Requirement already satisfied: pyyaml>=5.1 in /usr/local/lib/python3.10/dist-packages (from transformers) (6.0)\n",
            "Requirement already satisfied: regex!=2019.12.17 in /usr/local/lib/python3.10/dist-packages (from transformers) (2022.10.31)\n",
            "Requirement already satisfied: requests in /usr/local/lib/python3.10/dist-packages (from transformers) (2.27.1)\n",
            "Collecting tokenizers!=0.11.3,<0.14,>=0.11.1 (from transformers)\n",
            "  Downloading tokenizers-0.13.3-cp310-cp310-manylinux_2_17_x86_64.manylinux2014_x86_64.whl (7.8 MB)\n",
            "\u001b[2K     \u001b[90m━━━━━━━━━━━━━━━━━━━━━━━━━━━━━━━━━━━━━━━━\u001b[0m \u001b[32m7.8/7.8 MB\u001b[0m \u001b[31m99.7 MB/s\u001b[0m eta \u001b[36m0:00:00\u001b[0m\n",
            "\u001b[?25hRequirement already satisfied: tqdm>=4.27 in /usr/local/lib/python3.10/dist-packages (from transformers) (4.65.0)\n",
            "Requirement already satisfied: fsspec in /usr/local/lib/python3.10/dist-packages (from huggingface-hub<1.0,>=0.14.1->transformers) (2023.4.0)\n",
            "Requirement already satisfied: typing-extensions>=3.7.4.3 in /usr/local/lib/python3.10/dist-packages (from huggingface-hub<1.0,>=0.14.1->transformers) (4.5.0)\n",
            "Requirement already satisfied: urllib3<1.27,>=1.21.1 in /usr/local/lib/python3.10/dist-packages (from requests->transformers) (1.26.15)\n",
            "Requirement already satisfied: certifi>=2017.4.17 in /usr/local/lib/python3.10/dist-packages (from requests->transformers) (2022.12.7)\n",
            "Requirement already satisfied: charset-normalizer~=2.0.0 in /usr/local/lib/python3.10/dist-packages (from requests->transformers) (2.0.12)\n",
            "Requirement already satisfied: idna<4,>=2.5 in /usr/local/lib/python3.10/dist-packages (from requests->transformers) (3.4)\n",
            "Installing collected packages: tokenizers, huggingface-hub, transformers\n",
            "Successfully installed huggingface-hub-0.14.1 tokenizers-0.13.3 transformers-4.29.1\n",
            "Looking in indexes: https://pypi.org/simple, https://us-python.pkg.dev/colab-wheels/public/simple/\n",
            "Collecting torch-geometric\n",
            "  Downloading torch_geometric-2.3.1.tar.gz (661 kB)\n",
            "\u001b[2K     \u001b[90m━━━━━━━━━━━━━━━━━━━━━━━━━━━━━━━━━━━━━━\u001b[0m \u001b[32m661.6/661.6 kB\u001b[0m \u001b[31m10.9 MB/s\u001b[0m eta \u001b[36m0:00:00\u001b[0m\n",
            "\u001b[?25h  Installing build dependencies ... \u001b[?25l\u001b[?25hdone\n",
            "  Getting requirements to build wheel ... \u001b[?25l\u001b[?25hdone\n",
            "  Preparing metadata (pyproject.toml) ... \u001b[?25l\u001b[?25hdone\n",
            "Requirement already satisfied: tqdm in /usr/local/lib/python3.10/dist-packages (from torch-geometric) (4.65.0)\n",
            "Requirement already satisfied: numpy in /usr/local/lib/python3.10/dist-packages (from torch-geometric) (1.22.4)\n",
            "Requirement already satisfied: scipy in /usr/local/lib/python3.10/dist-packages (from torch-geometric) (1.10.1)\n",
            "Requirement already satisfied: jinja2 in /usr/local/lib/python3.10/dist-packages (from torch-geometric) (3.1.2)\n",
            "Requirement already satisfied: requests in /usr/local/lib/python3.10/dist-packages (from torch-geometric) (2.27.1)\n",
            "Requirement already satisfied: pyparsing in /usr/local/lib/python3.10/dist-packages (from torch-geometric) (3.0.9)\n",
            "Requirement already satisfied: scikit-learn in /usr/local/lib/python3.10/dist-packages (from torch-geometric) (1.2.2)\n",
            "Requirement already satisfied: psutil>=5.8.0 in /usr/local/lib/python3.10/dist-packages (from torch-geometric) (5.9.5)\n",
            "Requirement already satisfied: MarkupSafe>=2.0 in /usr/local/lib/python3.10/dist-packages (from jinja2->torch-geometric) (2.1.2)\n",
            "Requirement already satisfied: urllib3<1.27,>=1.21.1 in /usr/local/lib/python3.10/dist-packages (from requests->torch-geometric) (1.26.15)\n",
            "Requirement already satisfied: certifi>=2017.4.17 in /usr/local/lib/python3.10/dist-packages (from requests->torch-geometric) (2022.12.7)\n",
            "Requirement already satisfied: charset-normalizer~=2.0.0 in /usr/local/lib/python3.10/dist-packages (from requests->torch-geometric) (2.0.12)\n",
            "Requirement already satisfied: idna<4,>=2.5 in /usr/local/lib/python3.10/dist-packages (from requests->torch-geometric) (3.4)\n",
            "Requirement already satisfied: joblib>=1.1.1 in /usr/local/lib/python3.10/dist-packages (from scikit-learn->torch-geometric) (1.2.0)\n",
            "Requirement already satisfied: threadpoolctl>=2.0.0 in /usr/local/lib/python3.10/dist-packages (from scikit-learn->torch-geometric) (3.1.0)\n",
            "Building wheels for collected packages: torch-geometric\n",
            "  Building wheel for torch-geometric (pyproject.toml) ... \u001b[?25l\u001b[?25hdone\n",
            "  Created wheel for torch-geometric: filename=torch_geometric-2.3.1-py3-none-any.whl size=910459 sha256=439cfc98da47b70166ad06d9e8997daceb99d4c5c69963751a4f9eb740a9d196\n",
            "  Stored in directory: /root/.cache/pip/wheels/ac/dc/30/e2874821ff308ee67dcd7a66dbde912411e19e35a1addda028\n",
            "Successfully built torch-geometric\n",
            "Installing collected packages: torch-geometric\n",
            "Successfully installed torch-geometric-2.3.1\n",
            "Looking in indexes: https://pypi.org/simple, https://us-python.pkg.dev/colab-wheels/public/simple/\n",
            "Collecting pyTDC\n",
            "  Downloading PyTDC-0.4.0.tar.gz (107 kB)\n",
            "\u001b[2K     \u001b[90m━━━━━━━━━━━━━━━━━━━━━━━━━━━━━━━━━━━━━━━\u001b[0m \u001b[32m107.3/107.3 kB\u001b[0m \u001b[31m3.6 MB/s\u001b[0m eta \u001b[36m0:00:00\u001b[0m\n",
            "\u001b[?25h  Preparing metadata (setup.py) ... \u001b[?25l\u001b[?25hdone\n",
            "Collecting rdkit-pypi (from pyTDC)\n",
            "  Downloading rdkit_pypi-2022.9.5-cp310-cp310-manylinux_2_17_x86_64.manylinux2014_x86_64.whl (29.4 MB)\n",
            "\u001b[2K     \u001b[90m━━━━━━━━━━━━━━━━━━━━━━━━━━━━━━━━━━━━━━━━\u001b[0m \u001b[32m29.4/29.4 MB\u001b[0m \u001b[31m34.6 MB/s\u001b[0m eta \u001b[36m0:00:00\u001b[0m\n",
            "\u001b[?25hCollecting fuzzywuzzy (from pyTDC)\n",
            "  Downloading fuzzywuzzy-0.18.0-py2.py3-none-any.whl (18 kB)\n",
            "Requirement already satisfied: numpy in /usr/local/lib/python3.10/dist-packages (from pyTDC) (1.22.4)\n",
            "Requirement already satisfied: pandas in /usr/local/lib/python3.10/dist-packages (from pyTDC) (1.5.3)\n",
            "Requirement already satisfied: tqdm in /usr/local/lib/python3.10/dist-packages (from pyTDC) (4.65.0)\n",
            "Requirement already satisfied: scikit-learn in /usr/local/lib/python3.10/dist-packages (from pyTDC) (1.2.2)\n",
            "Requirement already satisfied: seaborn in /usr/local/lib/python3.10/dist-packages (from pyTDC) (0.12.2)\n",
            "Requirement already satisfied: requests in /usr/local/lib/python3.10/dist-packages (from pyTDC) (2.27.1)\n",
            "Requirement already satisfied: huggingface_hub in /usr/local/lib/python3.10/dist-packages (from pyTDC) (0.14.1)\n",
            "Collecting dataclasses (from pyTDC)\n",
            "  Downloading dataclasses-0.6-py3-none-any.whl (14 kB)\n",
            "Requirement already satisfied: filelock in /usr/local/lib/python3.10/dist-packages (from huggingface_hub->pyTDC) (3.12.0)\n",
            "Requirement already satisfied: fsspec in /usr/local/lib/python3.10/dist-packages (from huggingface_hub->pyTDC) (2023.4.0)\n",
            "Requirement already satisfied: pyyaml>=5.1 in /usr/local/lib/python3.10/dist-packages (from huggingface_hub->pyTDC) (6.0)\n",
            "Requirement already satisfied: typing-extensions>=3.7.4.3 in /usr/local/lib/python3.10/dist-packages (from huggingface_hub->pyTDC) (4.5.0)\n",
            "Requirement already satisfied: packaging>=20.9 in /usr/local/lib/python3.10/dist-packages (from huggingface_hub->pyTDC) (23.1)\n",
            "Requirement already satisfied: python-dateutil>=2.8.1 in /usr/local/lib/python3.10/dist-packages (from pandas->pyTDC) (2.8.2)\n",
            "Requirement already satisfied: pytz>=2020.1 in /usr/local/lib/python3.10/dist-packages (from pandas->pyTDC) (2022.7.1)\n",
            "Requirement already satisfied: Pillow in /usr/local/lib/python3.10/dist-packages (from rdkit-pypi->pyTDC) (8.4.0)\n",
            "Requirement already satisfied: urllib3<1.27,>=1.21.1 in /usr/local/lib/python3.10/dist-packages (from requests->pyTDC) (1.26.15)\n",
            "Requirement already satisfied: certifi>=2017.4.17 in /usr/local/lib/python3.10/dist-packages (from requests->pyTDC) (2022.12.7)\n",
            "Requirement already satisfied: charset-normalizer~=2.0.0 in /usr/local/lib/python3.10/dist-packages (from requests->pyTDC) (2.0.12)\n",
            "Requirement already satisfied: idna<4,>=2.5 in /usr/local/lib/python3.10/dist-packages (from requests->pyTDC) (3.4)\n",
            "Requirement already satisfied: scipy>=1.3.2 in /usr/local/lib/python3.10/dist-packages (from scikit-learn->pyTDC) (1.10.1)\n",
            "Requirement already satisfied: joblib>=1.1.1 in /usr/local/lib/python3.10/dist-packages (from scikit-learn->pyTDC) (1.2.0)\n",
            "Requirement already satisfied: threadpoolctl>=2.0.0 in /usr/local/lib/python3.10/dist-packages (from scikit-learn->pyTDC) (3.1.0)\n",
            "Requirement already satisfied: matplotlib!=3.6.1,>=3.1 in /usr/local/lib/python3.10/dist-packages (from seaborn->pyTDC) (3.7.1)\n",
            "Requirement already satisfied: contourpy>=1.0.1 in /usr/local/lib/python3.10/dist-packages (from matplotlib!=3.6.1,>=3.1->seaborn->pyTDC) (1.0.7)\n",
            "Requirement already satisfied: cycler>=0.10 in /usr/local/lib/python3.10/dist-packages (from matplotlib!=3.6.1,>=3.1->seaborn->pyTDC) (0.11.0)\n",
            "Requirement already satisfied: fonttools>=4.22.0 in /usr/local/lib/python3.10/dist-packages (from matplotlib!=3.6.1,>=3.1->seaborn->pyTDC) (4.39.3)\n",
            "Requirement already satisfied: kiwisolver>=1.0.1 in /usr/local/lib/python3.10/dist-packages (from matplotlib!=3.6.1,>=3.1->seaborn->pyTDC) (1.4.4)\n",
            "Requirement already satisfied: pyparsing>=2.3.1 in /usr/local/lib/python3.10/dist-packages (from matplotlib!=3.6.1,>=3.1->seaborn->pyTDC) (3.0.9)\n",
            "Requirement already satisfied: six>=1.5 in /usr/local/lib/python3.10/dist-packages (from python-dateutil>=2.8.1->pandas->pyTDC) (1.16.0)\n",
            "Building wheels for collected packages: pyTDC\n",
            "  Building wheel for pyTDC (setup.py) ... \u001b[?25l\u001b[?25hdone\n",
            "  Created wheel for pyTDC: filename=PyTDC-0.4.0-py3-none-any.whl size=139519 sha256=2240eb6e25fb1b845ac84fa28bb501d58423a6205cb69adea48b7bf21823b932\n",
            "  Stored in directory: /root/.cache/pip/wheels/65/da/1a/38e66a2b950c7acc0f41d3bbbc12071653d099baa5402d9c32\n",
            "Successfully built pyTDC\n",
            "Installing collected packages: fuzzywuzzy, dataclasses, rdkit-pypi, pyTDC\n",
            "Successfully installed dataclasses-0.6 fuzzywuzzy-0.18.0 pyTDC-0.4.0 rdkit-pypi-2022.9.5\n"
          ]
        },
        {
          "output_type": "display_data",
          "data": {
            "application/vnd.colab-display-data+json": {
              "pip_warning": {
                "packages": [
                  "dataclasses"
                ]
              }
            }
          },
          "metadata": {}
        }
      ]
    },
    {
      "cell_type": "markdown",
      "source": [
        "# Download the KIBA dataset"
      ],
      "metadata": {
        "id": "x73skjyu_mDS"
      }
    },
    {
      "cell_type": "code",
      "source": [
        "import os\n",
        "os.mkdir('raw')"
      ],
      "metadata": {
        "trusted": true,
        "id": "WowbBjFN_mDS"
      },
      "execution_count": 3,
      "outputs": []
    },
    {
      "cell_type": "code",
      "source": [
        "from tdc.multi_pred import DTI\n",
        "import pandas as pd\n",
        "\n",
        "data = DTI(name = 'KIBA')\n",
        "# data.convert_to_log(form = 'binding')\n",
        "split = data.get_split()\n",
        "\n",
        "train_data, test_data = split['train'], split['test']\n",
        "train_data['Prot_ID'] = train_data['Target_ID']\n",
        "train_data['Protein'] = train_data['Target']\n",
        "test_data['Prot_ID'] = test_data['Target_ID']\n",
        "test_data['Protein'] = test_data['Target']\n",
        "train_data = train_data.drop(['Target', 'Target_ID'], axis=1)\n",
        "test_data = test_data.drop(['Target', 'Target_ID'], axis=1)\n",
        "train_data.to_csv('./raw/DeepDTA_KIBA.tsv', sep=\"\\t\")\n",
        "test_data.to_csv('./raw/DeepDTA_KIBA_test.tsv', sep=\"\\t\")"
      ],
      "metadata": {
        "execution": {
          "iopub.status.busy": "2023-05-12T15:32:48.075696Z",
          "iopub.execute_input": "2023-05-12T15:32:48.076060Z",
          "iopub.status.idle": "2023-05-12T15:32:57.002785Z",
          "shell.execute_reply.started": "2023-05-12T15:32:48.076031Z",
          "shell.execute_reply": "2023-05-12T15:32:57.001519Z"
        },
        "trusted": true,
        "id": "ibl3yqc2_mDT",
        "outputId": "2cec158b-7b8b-46c7-d33e-30c7d2854c10",
        "colab": {
          "base_uri": "https://localhost:8080/"
        }
      },
      "execution_count": 4,
      "outputs": [
        {
          "output_type": "stream",
          "name": "stderr",
          "text": [
            "Downloading...\n",
            "100%|██████████| 96.6M/96.6M [00:04<00:00, 21.8MiB/s]\n",
            "Loading...\n",
            "Done!\n"
          ]
        }
      ]
    },
    {
      "cell_type": "markdown",
      "source": [
        "# importing libraries"
      ],
      "metadata": {
        "id": "LSKpf8eI_mDT"
      }
    },
    {
      "cell_type": "code",
      "source": [
        "import random\n",
        "import torch\n",
        "import numpy as np\n",
        "import os.path as osp\n",
        "from tqdm import tqdm\n",
        "import pandas as pd\n",
        "from torch_geometric.utils import from_smiles\n",
        "from torch.utils.data import Dataset\n",
        "from torch_geometric.loader import DataLoader\n",
        "from torch_geometric.data import Dataset as GraphDataset, Data\n",
        "from tape import ProteinBertModel, TAPETokenizer\n",
        "from transformers import AutoModel, AutoTokenizer"
      ],
      "metadata": {
        "execution": {
          "iopub.status.busy": "2023-05-12T15:32:57.009711Z",
          "iopub.execute_input": "2023-05-12T15:32:57.010201Z",
          "iopub.status.idle": "2023-05-12T15:33:02.775973Z",
          "shell.execute_reply.started": "2023-05-12T15:32:57.010150Z",
          "shell.execute_reply": "2023-05-12T15:33:02.774990Z"
        },
        "trusted": true,
        "id": "tn3elxOI_mDT"
      },
      "execution_count": 5,
      "outputs": []
    },
    {
      "cell_type": "markdown",
      "source": [
        "# Utility functions for preprocessing of data"
      ],
      "metadata": {
        "id": "ruY31Efp_mDU"
      }
    },
    {
      "cell_type": "code",
      "source": [
        "# util functions\n",
        "        \n",
        "#train validation test split from the dataframe\n",
        "def split_data(data_splits, data):\n",
        "    # print(data)\n",
        "    drugs = list(data['Drug_ID'].unique())\n",
        "    n_drug = len(drugs)\n",
        "    n = len(data)\n",
        "    n_train = int(round(n * data_splits[0]))\n",
        "    n_valid = int(round(n * data_splits[1]))\n",
        "    # n_test = int(round(n * data_splits[2]))\n",
        "    ids = np.arange(n, dtype=int)\n",
        "    random.shuffle(ids)\n",
        "    train = {'ids': ids[:n_train]}\n",
        "    train['drugs'] = data.loc[train['ids'], 'Drug_ID'].unique()\n",
        "    valid = {'ids': ids[n_train:n_train+n_valid]}\n",
        "    valid['drugs'] = data.loc[valid['ids'], 'Drug_ID'].unique()\n",
        "    test = {'ids': ids[n_train+n_valid:]}\n",
        "    test['drugs'] = data.loc[test['ids'], 'Drug_ID'].unique()\n",
        "    return train, valid, n_drug"
      ],
      "metadata": {
        "execution": {
          "iopub.status.busy": "2023-05-12T15:33:02.777335Z",
          "iopub.execute_input": "2023-05-12T15:33:02.778140Z",
          "iopub.status.idle": "2023-05-12T15:33:02.793751Z",
          "shell.execute_reply.started": "2023-05-12T15:33:02.778099Z",
          "shell.execute_reply": "2023-05-12T15:33:02.792503Z"
        },
        "trusted": true,
        "id": "3b7wFEko_mDU"
      },
      "execution_count": 6,
      "outputs": []
    },
    {
      "cell_type": "code",
      "source": [
        "def get_node_edges(smiles_edges, index_map):\n",
        "    node_edges = [[], []]\n",
        "    for edge in smiles_edges.T:\n",
        "\n",
        "        id_0 = np.logical_and(index_map['smiles_i0'] <= edge[0],\n",
        "                              index_map['smiles_i1'] >= edge[0])\n",
        "        id_1 = np.logical_and(index_map['smiles_i0'] <= edge[1],\n",
        "                              index_map['smiles_i1'] >= edge[1])\n",
        "        if id_0.sum() == 1 and id_1.sum() == 1:\n",
        "            node_edges[0].append(int(index_map[id_0]['token_i']))\n",
        "            node_edges[1].append(int(index_map[id_1]['token_i']))\n",
        "        elif id_0.sum() > 1 or id_1.sum() > 1:\n",
        "            raise ValueError('The edge seems to connect to multiple nodes!')\n",
        "\n",
        "    return np.array(node_edges, dtype=int)\n",
        "\n",
        "\n",
        "def smiles_edges_to_token_edges(smiles, tokenizer, reverse_vocab):\n",
        "    token_ids = tokenizer.encode(smiles)\n",
        "    index_map = get_indexmap(token_ids, reverse_vocab, smiles)\n",
        "    smiles_edges = from_smiles(smiles).edge_index\n",
        "    node_edges = get_node_edges(smiles_edges, index_map)\n",
        "    # keep only between node edges\n",
        "    node_edges = node_edges[:, ((node_edges[0] - node_edges[1]) != 0)]\n",
        "    # remove duplicates. Duplicates can occur when different atoms within the\n",
        "    # same nodes are connected to each other.\n",
        "    node_edges = np.unique(node_edges, axis=1)\n",
        "    return node_edges, index_map\n",
        "\n",
        "\n",
        "def get_indexmap(token_ids, rev_vocab, smiles):\n",
        "    index_map = pd.DataFrame(index=range(len(token_ids)),columns=['token_i','token','token_id','keep','smiles_i0','smiles_i1'])\n",
        "    start = 0\n",
        "    token_i = 0\n",
        "    for i, token_id in enumerate(token_ids):\n",
        "\n",
        "        token = rev_vocab[token_id]\n",
        "\n",
        "        if token.isalpha():  # only all alphabetic chars are nodes\n",
        "            smiles_i0 = smiles[start:].find(token)\n",
        "            if smiles_i0 >= 0:\n",
        "                smiles_i0 += start\n",
        "                smiles_i1 = smiles_i0 + len(token)\n",
        "                start = smiles_i1\n",
        "\n",
        "                index_map.loc[i] = (token_i, token, token_id,\n",
        "                                    True, smiles_i0, smiles_i1 - 1)\n",
        "                token_i += 1\n",
        "            else:\n",
        "                raise ValueError('Node token not found in SMILES.\\nCheck that '\n",
        "                                 'token_ids are computed from smiles.')\n",
        "        else:\n",
        "            index_map.loc[i] = (-1, token, token_id, False, -1, -1)\n",
        "\n",
        "    return index_map\n",
        "\n",
        "\n",
        "def edges_from_protein_sequence(prot_seq):\n",
        "    n = len(prot_seq)\n",
        "    # first and row in COO format\n",
        "    # each node is connected to left and right except the first an last.\n",
        "    edge_index = np.stack([np.repeat(np.arange(n), 2)[1:-1],\n",
        "                           np.repeat(np.arange(n), 2)[1:-1]], axis=0)\n",
        "    for i in range(0, len(edge_index[0]), 2):\n",
        "        edge_index[1, i], edge_index[1, i+1] = edge_index[1, i+1], edge_index[1, i]\n",
        "\n",
        "    return torch.tensor(edge_index, dtype=torch.long)\n"
      ],
      "metadata": {
        "execution": {
          "iopub.status.busy": "2023-05-12T15:33:02.796769Z",
          "iopub.execute_input": "2023-05-12T15:33:02.797181Z",
          "iopub.status.idle": "2023-05-12T15:33:02.817145Z",
          "shell.execute_reply.started": "2023-05-12T15:33:02.797137Z",
          "shell.execute_reply": "2023-05-12T15:33:02.815928Z"
        },
        "trusted": true,
        "id": "GKzp8Lz5_mDU"
      },
      "execution_count": 7,
      "outputs": []
    },
    {
      "cell_type": "markdown",
      "source": [
        "## Preprocessing the dataset by converting the sequences and SMILES to their graph node embeddings"
      ],
      "metadata": {
        "id": "sA4u1Swt_mDV"
      }
    },
    {
      "cell_type": "code",
      "source": [
        "class Dataset(GraphDataset):\n",
        "    def __init__(self, root):\n",
        "        self.partition = 'train'\n",
        "        self.partition_kind = 'pair'\n",
        "        self.dataset_name = 'KIBA'\n",
        "        self.raw_file_name = f'DeepDTA_KIBA.tsv'\n",
        "        self.data_splits = (1.0, 0.0, 0.)\n",
        "        self.drug_encoder_name = 'DeepChem/ChemBERTa-77M-MTR'\n",
        "        self.prot_encoder_name = 'bert-base'\n",
        "        self.drug_encoder = AutoModel.from_pretrained(self.drug_encoder_name)\n",
        "        self.drug_tokenizer = AutoTokenizer.from_pretrained(self.drug_encoder_name)\n",
        "        self.prot_encoder = ProteinBertModel.from_pretrained(self.prot_encoder_name)\n",
        "        self.prot_tokenizer = TAPETokenizer(vocab='iupac')\n",
        "\n",
        "        # 384 for drug features embedding\n",
        "        # 786 for protein features embedding\n",
        "        self.num_drug_features = self.drug_encoder.config.hidden_size\n",
        "        self.num_prot_features = self.prot_encoder.config.hidden_size\n",
        "\n",
        "        super(Dataset, self).__init__(root, None, None)\n",
        "\n",
        "        # Split data into train/valid/test sets\n",
        "        train, valid, n_drug = split_data(self.data_splits,self.raw_data)\n",
        "        self.n_drug = n_drug\n",
        "        self.train_ids, self.train_drugs = train['ids'], train['drugs']\n",
        "        self.valid_ids, self.valid_drugs = valid['ids'], valid['drugs']\n",
        "#         self.test_ids, self.test_drugs = test['ids'], test['drugs']\n",
        "\n",
        "    @property\n",
        "    def raw_file_names(self):\n",
        "        return self.raw_file_name\n",
        "\n",
        "    @property\n",
        "    def processed_file_names(self):\n",
        "        self.raw_data = pd.read_csv(osp.join(self.raw_dir, self.raw_file_name),\n",
        "                                    sep='\\t')\n",
        "        self.prots = self.raw_data['Prot_ID'].unique()\n",
        "        self.drugs = self.raw_data['Drug_ID'].unique()\n",
        "        self.n_prot, self.n_drug = len(self.prots), len(self.drugs)\n",
        "        self.n_total = self.n_prot + self.n_drug\n",
        "        prot_embed_fnames = [self._build_embed_fname(id) for id in self.prots]\n",
        "        drug_embed_fnames = [self._build_embed_fname(id) for id in self.drugs]\n",
        "\n",
        "        return prot_embed_fnames + drug_embed_fnames\n",
        "\n",
        "    def download(self):\n",
        "        pass\n",
        "\n",
        "    def _build_embed_fname(self, ID):\n",
        "        return f'{self.dataset_name}_{ID}_embedded.pt'\n",
        "\n",
        "    def process(self):\n",
        "\n",
        "        vocab = self.drug_tokenizer.vocab\n",
        "        reverse_vocab = {key: val for val, key in vocab.items()}\n",
        "        self.prot_encoder.to('cuda')\n",
        "        self.drug_encoder.to('cuda')\n",
        "        processed_prots, processed_drugs = [], []\n",
        "        for idx, row in tqdm(self.raw_data.iterrows(), total=self.n_total):\n",
        "            with torch.no_grad():\n",
        "                # Only embed a protein if it hasn't already been embedded and saved\n",
        "                if row[\"Prot_ID\"] not in processed_prots:\n",
        "                    tokens = torch.tensor(self.prot_tokenizer.encode(row['Protein'])).to('cuda')\n",
        "                    embed = self.prot_encoder(tokens.reshape(1, -1))[0].squeeze()\n",
        "                    embed = embed.to('cpu')\n",
        "                    edges = edges_from_protein_sequence(row['Protein'])\n",
        "                    data = {'embeddings': Data(x=embed[1:-1], edge_index=edges),'Prot_ID': row['Prot_ID']}\n",
        "                    fname = self._build_embed_fname(row[\"Prot_ID\"])\n",
        "                    torch.save(data, osp.join(self.processed_dir, fname))\n",
        "                    processed_prots.append(row['Prot_ID'])\n",
        "\n",
        "              # Only embed a drug if it hasn't already been embedded and saved\n",
        "                if row['Drug_ID'] not in processed_drugs:\n",
        "                    tokens = torch.tensor(self.drug_tokenizer.encode(row['Drug'],truncation=True, max_length=512)).to('cuda')\n",
        "                    embed = self.drug_encoder(tokens.reshape(1, -1)).last_hidden_state\n",
        "                    embed = embed.to('cpu')\n",
        "                    edges, index_map = smiles_edges_to_token_edges(row['Drug'],self.drug_tokenizer,reverse_vocab)\n",
        "                    data = {'embeddings':\n",
        "                          Data(x=embed.squeeze(),\n",
        "                                edge_index=torch.tensor(edges, dtype=torch.long)),\n",
        "                          'Drug_ID': row['Drug_ID'],\n",
        "                          'node_ids': index_map['keep'].values.astype('bool')}\n",
        "                    fname = self._build_embed_fname(row[\"Drug_ID\"])\n",
        "                    torch.save(data, osp.join(self.processed_dir, fname))\n",
        "                    processed_drugs.append(row['Drug_ID'])\n",
        "\n",
        "    def len(self):\n",
        "\n",
        "        if self.partition == 'train':\n",
        "            n = len(self.train_ids)\n",
        "        elif self.partition == 'valid':\n",
        "            n = len(self.valid_ids)\n",
        "        elif self.partition == 'test':\n",
        "            n = len(self.test_ids)\n",
        "        else:\n",
        "            n = len(self.raw_data.index)\n",
        "\n",
        "        return n\n",
        "\n",
        "    def get(self, idx):\n",
        "\n",
        "        if self.partition == 'train':\n",
        "            row = self.raw_data.loc[self.train_ids[idx]]\n",
        "        elif self.partition == 'valid':\n",
        "            row = self.raw_data.loc[self.valid_ids[idx]]\n",
        "        elif self.partition == 'test':\n",
        "            row = self.raw_data.loc[self.test_ids[idx]]\n",
        "        else:\n",
        "            row = self.raw_data.loc[self.raw_data.index[idx]]\n",
        "\n",
        "        prot_embed_fname = osp.join(self.processed_dir,\n",
        "                                    self._build_embed_fname(row[\"Prot_ID\"]))\n",
        "        prot_data = torch.load(prot_embed_fname)\n",
        "\n",
        "        drug_embed_fname = osp.join(self.processed_dir,\n",
        "                                    self._build_embed_fname(row[\"Drug_ID\"]))\n",
        "        drug_data = torch.load(drug_embed_fname)\n",
        "\n",
        "        \n",
        "        \n",
        "        y = torch.tensor([row['Y']], dtype=torch.float32)\n",
        "\n",
        "        meta = {'Drug_ID': str(drug_data['Drug_ID']),\n",
        "                'Prot_ID': str(prot_data['Prot_ID']),\n",
        "                'raw_Drug_ID': str(row['Drug_ID']),\n",
        "                'Drug': row['Drug'],\n",
        "                'raw_Prot_ID': str(row['Prot_ID']),\n",
        "                'Prot': row['Protein'],\n",
        "                'Y': row['Y']}\n",
        "\n",
        "        drug_data['embeddings'].x.requires_grad = False\n",
        "        prot_data['embeddings'].x.requires_grad = False\n",
        "\n",
        "        return drug_data['embeddings'], prot_data['embeddings'], y, meta\n"
      ],
      "metadata": {
        "execution": {
          "iopub.status.busy": "2023-05-12T15:33:02.819020Z",
          "iopub.execute_input": "2023-05-12T15:33:02.819444Z",
          "iopub.status.idle": "2023-05-12T15:33:02.852661Z",
          "shell.execute_reply.started": "2023-05-12T15:33:02.819388Z",
          "shell.execute_reply": "2023-05-12T15:33:02.851639Z"
        },
        "trusted": true,
        "id": "1fRHOdsU_mDV"
      },
      "execution_count": 8,
      "outputs": []
    },
    {
      "cell_type": "code",
      "source": [
        "dataset = Dataset(root=\".\")"
      ],
      "metadata": {
        "execution": {
          "iopub.status.busy": "2023-05-12T15:33:02.854109Z",
          "iopub.execute_input": "2023-05-12T15:33:02.854502Z",
          "iopub.status.idle": "2023-05-12T15:40:31.699003Z",
          "shell.execute_reply.started": "2023-05-12T15:33:02.854464Z",
          "shell.execute_reply": "2023-05-12T15:40:31.697702Z"
        },
        "trusted": true,
        "colab": {
          "referenced_widgets": [
            "6904fb99bc6240c2b3e0ec269395744d",
            "7456276cb40c4e1b82a40a158d257879",
            "b7fdcf35fa4344dd8d5605be85ca3768",
            "256107604e8a4d25ae2a5a666b453d7b",
            "bc1922ddc9774da0af4953e03d75a175",
            "27fcefd544d241b197e4ccc60bf96c03",
            "c2dd4dd534f04dd387b38d05d214ac06",
            "9aeb91d1ea7644f79f7513afdd67a9ea"
          ]
        },
        "id": "exek-nGO_mDV",
        "outputId": "0385b734-6f99-4f7c-f6e5-e5ba795e8a91"
      },
      "execution_count": null,
      "outputs": [
        {
          "output_type": "display_data",
          "data": {
            "text/plain": "Downloading (…)lve/main/config.json:   0%|          | 0.00/17.7k [00:00<?, ?B/s]",
            "application/vnd.jupyter.widget-view+json": {
              "version_major": 2,
              "version_minor": 0,
              "model_id": "6904fb99bc6240c2b3e0ec269395744d"
            }
          },
          "metadata": {}
        },
        {
          "output_type": "display_data",
          "data": {
            "text/plain": "Downloading pytorch_model.bin:   0%|          | 0.00/14.0M [00:00<?, ?B/s]",
            "application/vnd.jupyter.widget-view+json": {
              "version_major": 2,
              "version_minor": 0,
              "model_id": "7456276cb40c4e1b82a40a158d257879"
            }
          },
          "metadata": {}
        },
        {
          "name": "stderr",
          "text": "Some weights of the model checkpoint at DeepChem/ChemBERTa-77M-MTR were not used when initializing RobertaModel: ['regression.dense.weight', 'regression.out_proj.bias', 'norm_mean', 'norm_std', 'regression.dense.bias', 'regression.out_proj.weight']\n- This IS expected if you are initializing RobertaModel from the checkpoint of a model trained on another task or with another architecture (e.g. initializing a BertForSequenceClassification model from a BertForPreTraining model).\n- This IS NOT expected if you are initializing RobertaModel from the checkpoint of a model that you expect to be exactly identical (initializing a BertForSequenceClassification model from a BertForSequenceClassification model).\n",
          "output_type": "stream"
        },
        {
          "output_type": "display_data",
          "data": {
            "text/plain": "Downloading (…)okenizer_config.json:   0%|          | 0.00/1.27k [00:00<?, ?B/s]",
            "application/vnd.jupyter.widget-view+json": {
              "version_major": 2,
              "version_minor": 0,
              "model_id": "b7fdcf35fa4344dd8d5605be85ca3768"
            }
          },
          "metadata": {}
        },
        {
          "output_type": "display_data",
          "data": {
            "text/plain": "Downloading (…)olve/main/vocab.json:   0%|          | 0.00/6.96k [00:00<?, ?B/s]",
            "application/vnd.jupyter.widget-view+json": {
              "version_major": 2,
              "version_minor": 0,
              "model_id": "256107604e8a4d25ae2a5a666b453d7b"
            }
          },
          "metadata": {}
        },
        {
          "output_type": "display_data",
          "data": {
            "text/plain": "Downloading (…)olve/main/merges.txt:   0%|          | 0.00/52.0 [00:00<?, ?B/s]",
            "application/vnd.jupyter.widget-view+json": {
              "version_major": 2,
              "version_minor": 0,
              "model_id": "bc1922ddc9774da0af4953e03d75a175"
            }
          },
          "metadata": {}
        },
        {
          "output_type": "display_data",
          "data": {
            "text/plain": "Downloading (…)/main/tokenizer.json:   0%|          | 0.00/8.26k [00:00<?, ?B/s]",
            "application/vnd.jupyter.widget-view+json": {
              "version_major": 2,
              "version_minor": 0,
              "model_id": "27fcefd544d241b197e4ccc60bf96c03"
            }
          },
          "metadata": {}
        },
        {
          "output_type": "display_data",
          "data": {
            "text/plain": "Downloading (…)in/added_tokens.json:   0%|          | 0.00/25.0 [00:00<?, ?B/s]",
            "application/vnd.jupyter.widget-view+json": {
              "version_major": 2,
              "version_minor": 0,
              "model_id": "c2dd4dd534f04dd387b38d05d214ac06"
            }
          },
          "metadata": {}
        },
        {
          "output_type": "display_data",
          "data": {
            "text/plain": "Downloading (…)cial_tokens_map.json:   0%|          | 0.00/420 [00:00<?, ?B/s]",
            "application/vnd.jupyter.widget-view+json": {
              "version_major": 2,
              "version_minor": 0,
              "model_id": "9aeb91d1ea7644f79f7513afdd67a9ea"
            }
          },
          "metadata": {}
        },
        {
          "name": "stderr",
          "text": "100%|██████████| 567/567 [00:00<00:00, 251445.38B/s]\n100%|██████████| 370264230/370264230 [00:06<00:00, 58483799.41B/s]\nProcessing...\n79685it [05:51,  8.21it/s]                          Token indices sequence length is longer than the specified maximum sequence length for this model (534 > 512). Running this sequence through the model will result in indexing errors\n82360it [07:04, 194.17it/s]\nDone!\n",
          "output_type": "stream"
        }
      ]
    },
    {
      "cell_type": "markdown",
      "source": [
        "# Our Model which uses GCN and BERT"
      ],
      "metadata": {
        "id": "S_1ntu6B_mDW"
      }
    },
    {
      "cell_type": "code",
      "source": [
        "import torch\n",
        "from torch_geometric.nn import Linear as GraphLinear\n",
        "from torch_geometric.nn import global_mean_pool, BatchNorm\n",
        "from torch_geometric.nn import GCNConv, DeepGCNLayer\n",
        "from torch.nn import Embedding, Conv1d, Conv2d, Linear, Dropout, ReLU\n",
        "from torch.nn import AdaptiveMaxPool1d, AdaptiveMaxPool2d, LayerNorm\n",
        "\n",
        "class GCNBert(torch.nn.Module):\n",
        "\n",
        "    def __init__(self, dataset, n_hidden=128):\n",
        "        super(GCNBert, self).__init__()\n",
        "        self.batchnorm_d = BatchNorm(dataset.num_drug_features)\n",
        "        self.dense_d1 = GraphLinear(dataset.num_drug_features, 2*n_hidden)\n",
        "        self.dense_d2 = GraphLinear(2*n_hidden, n_hidden)\n",
        "        self.gconv_d1 = GCNConv(n_hidden, n_hidden)\n",
        "        self.gconv_d2 = GCNConv(n_hidden, n_hidden)\n",
        "        self.gconv_d3 = GCNConv(n_hidden, n_hidden)\n",
        "        self.gconv_d4 = GCNConv(n_hidden, n_hidden)\n",
        "        \n",
        "        self.batchnorm_p = BatchNorm(dataset.num_prot_features)\n",
        "        self.dense_p1 = GraphLinear(dataset.num_prot_features, 2*n_hidden)\n",
        "        self.dense_p2 = GraphLinear(2*n_hidden, n_hidden)\n",
        "        self.gconv_p1 = GCNConv(n_hidden, n_hidden)\n",
        "        self.gconv_p2 = GCNConv(n_hidden, n_hidden)\n",
        "        self.gconv_p3 = GCNConv(n_hidden, n_hidden)\n",
        "        self.gconv_p4 = GCNConv(n_hidden, n_hidden)\n",
        "\n",
        "        self.dense_1 = GraphLinear(2*n_hidden, 512)\n",
        "        self.dense_2 = GraphLinear(512, 256)\n",
        "        self.dense_3 = GraphLinear(256, 128)\n",
        "        self.dense_4 = Linear(256, 1)\n",
        "\n",
        "    def forward(self, xd, xp):\n",
        "        xd.x = self.batchnorm_d(xd.x)\n",
        "        xd.x = self.dense_d1(xd.x).relu()\n",
        "        xd.x = self.dense_d2(xd.x).relu()\n",
        "        xd.x = self.gconv_d1(xd.x, xd.edge_index).relu()\n",
        "        xd.x = self.gconv_d2(xd.x, xd.edge_index).relu()\n",
        "        xd.x = self.gconv_d3(xd.x, xd.edge_index).relu()\n",
        "        xd.x = self.gconv_d4(xd.x, xd.edge_index).relu()\n",
        "        xd.x = global_mean_pool(xd.x, xd.batch)\n",
        "\n",
        "        xp.x = self.batchnorm_p(xp.x)\n",
        "        xp.x = self.dense_p1(xp.x).relu()\n",
        "        xp.x = self.dense_p2(xp.x).relu()\n",
        "        xp.x = self.gconv_p1(xp.x, xp.edge_index).relu()\n",
        "        xp.x = self.gconv_p2(xp.x, xp.edge_index).relu()\n",
        "        xp.x = self.gconv_p3(xp.x, xp.edge_index).relu()\n",
        "        xp.x = self.gconv_p4(xp.x, xp.edge_index).relu()\n",
        "        xp.x = global_mean_pool(xp.x, xp.batch) \n",
        "        \n",
        "        x = torch.cat([xd.x, xp.x], dim=1)\n",
        "        x = self.dense_1(x).relu()\n",
        "        x = self.dense_2(x).relu()\n",
        "        pred = self.dense_4(x)\n",
        "        return pred"
      ],
      "metadata": {
        "execution": {
          "iopub.status.busy": "2023-05-12T15:44:33.754730Z",
          "iopub.execute_input": "2023-05-12T15:44:33.755158Z",
          "iopub.status.idle": "2023-05-12T15:44:33.782786Z",
          "shell.execute_reply.started": "2023-05-12T15:44:33.755125Z",
          "shell.execute_reply": "2023-05-12T15:44:33.780984Z"
        },
        "trusted": true,
        "id": "Vl3Z2MFs_mDW"
      },
      "execution_count": null,
      "outputs": []
    },
    {
      "cell_type": "code",
      "source": [
        "device = \"cuda\" if torch.cuda.is_available() else \"cpu\"\n",
        "model = GCNBert(dataset).to(device)"
      ],
      "metadata": {
        "execution": {
          "iopub.status.busy": "2023-05-12T15:44:35.864117Z",
          "iopub.execute_input": "2023-05-12T15:44:35.864541Z",
          "iopub.status.idle": "2023-05-12T15:44:35.890853Z",
          "shell.execute_reply.started": "2023-05-12T15:44:35.864507Z",
          "shell.execute_reply": "2023-05-12T15:44:35.889855Z"
        },
        "trusted": true,
        "id": "NetxEtBt_mDW"
      },
      "execution_count": null,
      "outputs": []
    },
    {
      "cell_type": "markdown",
      "source": [
        "## we kept the batch size to 256 and optimizer as Adam with learning rate as 0.001"
      ],
      "metadata": {
        "id": "_4CK9Pe8_mDX"
      }
    },
    {
      "cell_type": "code",
      "source": [
        "optimizer = torch.optim.Adam(model.parameters(), lr=0.001)\n",
        "loss_fn = torch.nn.MSELoss()"
      ],
      "metadata": {
        "execution": {
          "iopub.status.busy": "2023-05-12T15:44:36.288228Z",
          "iopub.execute_input": "2023-05-12T15:44:36.289494Z",
          "iopub.status.idle": "2023-05-12T15:44:36.295225Z",
          "shell.execute_reply.started": "2023-05-12T15:44:36.289441Z",
          "shell.execute_reply": "2023-05-12T15:44:36.294163Z"
        },
        "trusted": true,
        "id": "jVfDMeE7_mDX"
      },
      "execution_count": null,
      "outputs": []
    },
    {
      "cell_type": "markdown",
      "source": [
        "# train and evaluate function"
      ],
      "metadata": {
        "id": "-JpqdQTC_mDX"
      }
    },
    {
      "cell_type": "code",
      "source": [
        "import sys\n",
        "import tqdm\n",
        "def train(data_loader, model, device, loss_fn, optimizer, verbose=False):\n",
        "\n",
        "    model.train()\n",
        "    data_loader.dataset.partition = 'train'\n",
        "    ave_loss = 0.0\n",
        "    \n",
        "    num_batch = len(data_loader)\n",
        "    # Iterate in batches over the training dataset.\n",
        "    # for batch, data in enumerate(dataloader):\n",
        "    for batch, data in enumerate(data_loader):\n",
        "        xd, xp = data[0].to(device), data[1].to(device)\n",
        "        # Forward\n",
        "        pred = model(xd, xp)\n",
        "        # Compute the lossSS\n",
        "        loss = loss_fn(pred, data[2].to(device, dtype=torch.float32))\n",
        "        # Backpropagation\n",
        "        loss.backward()\n",
        "        # Weight update\n",
        "        optimizer.step()\n",
        "        optimizer.zero_grad()\n",
        "\n",
        "        batch_loss = loss.detach().item()\n",
        "        ave_loss += batch_loss\n",
        "        if verbose:\n",
        "            s = f'{batch_loss:.3f}'\n",
        "            print('Batch loss: '+s, end='\\r')\n",
        "            sys.stdout.flush()\n",
        "\n",
        "    if verbose:\n",
        "        print()\n",
        "\n",
        "    return ave_loss / num_batch\n",
        "\n",
        "\n",
        "def evaluate(data_loader, model, device, loss_fn, partition='valid'):\n",
        "\n",
        "    data_loader.dataset.partition = 'train'\n",
        "    batch_size = data_loader.batch_size\n",
        "    model.eval()\n",
        "    num_batch = len(data_loader)\n",
        "    ave_loss = 0.0\n",
        "    preds = np.empty(batch_size * num_batch)\n",
        "    targets = np.empty(batch_size * num_batch)\n",
        "\n",
        "    with torch.no_grad():\n",
        "        # Iterate in batches over the validation dataset.\n",
        "        for batch, data in enumerate(data_loader):\n",
        "            y = data[2].to(device, dtype=torch.float32)\n",
        "            pred = model(data[0].to(device), data[1].to(device))\n",
        "            ave_loss += loss_fn(pred, y).item()\n",
        "            pred = pred.cpu().detach().numpy().flatten()\n",
        "            i0, i1 = batch * batch_size, batch * batch_size + pred.shape[0]\n",
        "            preds[i0: i1] = pred\n",
        "            targets[i0: i1] = y.cpu().detach().numpy().flatten()\n",
        "\n",
        "    return preds, targets, ave_loss / num_batch"
      ],
      "metadata": {
        "execution": {
          "iopub.status.busy": "2023-05-12T15:44:38.855751Z",
          "iopub.execute_input": "2023-05-12T15:44:38.856180Z",
          "iopub.status.idle": "2023-05-12T15:44:38.874208Z",
          "shell.execute_reply.started": "2023-05-12T15:44:38.856144Z",
          "shell.execute_reply": "2023-05-12T15:44:38.871404Z"
        },
        "trusted": true,
        "id": "dRJ55YZL_mDX"
      },
      "execution_count": null,
      "outputs": []
    },
    {
      "cell_type": "markdown",
      "source": [
        "# 5-fold Cross Validation (as implemented in the DeepDTA's paper)"
      ],
      "metadata": {
        "id": "9DTpFP_K_mDX"
      }
    },
    {
      "cell_type": "code",
      "source": [
        "fraction = 0.2\n",
        "k_fold = 5\n",
        "train_score = pd.Series()\n",
        "val_score = pd.Series()\n",
        "\n",
        "total_size = len(dataset)\n",
        "fraction = 1/k_fold\n",
        "seg = int(total_size * fraction)"
      ],
      "metadata": {
        "execution": {
          "iopub.status.busy": "2023-05-12T03:43:20.747949Z",
          "iopub.execute_input": "2023-05-12T03:43:20.748724Z",
          "iopub.status.idle": "2023-05-12T03:43:20.758444Z",
          "shell.execute_reply.started": "2023-05-12T03:43:20.748686Z",
          "shell.execute_reply": "2023-05-12T03:43:20.754204Z"
        },
        "trusted": true,
        "id": "IbF9FAEH_mDX"
      },
      "execution_count": null,
      "outputs": []
    },
    {
      "cell_type": "code",
      "source": [
        "\n",
        "# tr:train,val:valid; r:right,l:left;  eg: trrr: right index of right side train subset \n",
        "# index: [trll,trlr],[vall,valr],[trrl,trrr]\n",
        "def fold():\n",
        "    for i in range(k_fold):\n",
        "        trll = 0\n",
        "        trlr = i * seg\n",
        "        vall = trlr\n",
        "        valr = i * seg + seg\n",
        "        trrl = valr\n",
        "        trrr = total_size\n",
        "\n",
        "        train_left_indices = list(range(trll,trlr))\n",
        "        train_right_indices = list(range(trrl,trrr))\n",
        "\n",
        "        train_indices = train_left_indices + train_right_indices\n",
        "        val_indices = list(range(vall,valr))\n",
        "\n",
        "        train_set = torch.utils.data.dataset.Subset(dataset,train_indices)\n",
        "        val_set = torch.utils.data.dataset.Subset(dataset,val_indices)\n",
        "\n",
        "        train_loader = DataLoader(train_set, batch_size=256, shuffle=True)\n",
        "        val_loader = DataLoader(val_set, batch_size=256, shuffle=True)\n",
        "        train_loss = train(train_loader, model, device,loss_fn, optimizer, verbose=True)\n",
        "        train_score.at[i] = train_loss\n",
        "        pred_valid, y_valid, valid_loss = evaluate(val_loader, model, device,loss_fn, partition='valid')\n",
        "        val_score.at[i] = valid_loss\n",
        "        print(f'-- train MSE: {train_loss:.4f}', f', valid MSE: {valid_loss:.4f}')\n",
        "    "
      ],
      "metadata": {
        "execution": {
          "iopub.status.busy": "2023-05-12T03:43:24.444200Z",
          "iopub.execute_input": "2023-05-12T03:43:24.444803Z",
          "iopub.status.idle": "2023-05-12T03:43:24.454971Z",
          "shell.execute_reply.started": "2023-05-12T03:43:24.444767Z",
          "shell.execute_reply": "2023-05-12T03:43:24.453991Z"
        },
        "trusted": true,
        "id": "BAGcq3vR_mDX"
      },
      "execution_count": null,
      "outputs": []
    },
    {
      "cell_type": "markdown",
      "source": [
        "# Training and fine tuning the model"
      ],
      "metadata": {
        "id": "tVNZSM36_mDY"
      }
    },
    {
      "cell_type": "code",
      "source": [
        "for epoch in range(6,51):\n",
        "    print(f\"Epoch: {epoch}\")\n",
        "    fold()\n",
        "    state = {\n",
        "        'epoch': epoch+1,\n",
        "        'state_dict': model.state_dict(),\n",
        "        'optimizer': optimizer.state_dict(),\n",
        "    }\n",
        "    torch.save(state, f\"./model{epoch}.t7\")"
      ],
      "metadata": {
        "execution": {
          "iopub.status.busy": "2023-05-12T06:39:09.184078Z",
          "iopub.execute_input": "2023-05-12T06:39:09.184524Z",
          "iopub.status.idle": "2023-05-12T14:41:14.107313Z",
          "shell.execute_reply.started": "2023-05-12T06:39:09.184490Z",
          "shell.execute_reply": "2023-05-12T14:41:14.103546Z"
        },
        "trusted": true,
        "id": "9K9A0AxI_mDY",
        "outputId": "e4363c75-ac26-4a32-91f1-e994cc1ea0d6"
      },
      "execution_count": null,
      "outputs": [
        {
          "name": "stdout",
          "text": "Epoch: 6\nBatch loss: 0.296\n-- train MSE: 0.3833 , valid MSE: 0.4105\nBatch loss: 0.478\n-- train MSE: 0.3747 , valid MSE: 0.3642\nBatch loss: 0.352\n-- train MSE: 0.3769 , valid MSE: 0.4354\nBatch loss: 0.231\n-- train MSE: 0.3720 , valid MSE: 0.4513\nBatch loss: 0.255\n-- train MSE: 0.3681 , valid MSE: 0.3857\nEpoch: 7\nBatch loss: 0.276\n-- train MSE: 0.3564 , valid MSE: 0.3399\nBatch loss: 0.367\n-- train MSE: 0.3382 , valid MSE: 0.3175\nBatch loss: 0.288\n-- train MSE: 0.3359 , valid MSE: 0.4180\nBatch loss: 0.473\n-- train MSE: 0.3196 , valid MSE: 0.3119\nBatch loss: 0.282\n-- train MSE: 0.3244 , valid MSE: 0.2929\nEpoch: 8\nBatch loss: 0.276\n-- train MSE: 0.3056 , valid MSE: 0.3017\nBatch loss: 0.276\n-- train MSE: 0.3081 , valid MSE: 0.3008\nBatch loss: 0.598\n-- train MSE: 0.3052 , valid MSE: 0.2907\nBatch loss: 0.364\n-- train MSE: 0.2983 , valid MSE: 0.2910\nBatch loss: 0.343\n-- train MSE: 0.2938 , valid MSE: 0.2844\nEpoch: 9\nBatch loss: 0.238\n-- train MSE: 0.2894 , valid MSE: 0.2817\nBatch loss: 0.272\n-- train MSE: 0.2825 , valid MSE: 0.2804\nBatch loss: 0.144\n-- train MSE: 0.2938 , valid MSE: 0.2671\nBatch loss: 0.219\n-- train MSE: 0.2805 , valid MSE: 0.2824\nBatch loss: 0.206\n-- train MSE: 0.2874 , valid MSE: 0.3443\nEpoch: 10\nBatch loss: 0.203\n-- train MSE: 0.2770 , valid MSE: 0.2751\nBatch loss: 0.211\n-- train MSE: 0.2742 , valid MSE: 0.2709\nBatch loss: 0.569\n-- train MSE: 0.2769 , valid MSE: 0.2893\nBatch loss: 0.312\n-- train MSE: 0.2713 , valid MSE: 0.2814\nBatch loss: 0.289\n-- train MSE: 0.2732 , valid MSE: 0.2642\nEpoch: 11\nBatch loss: 0.262\n-- train MSE: 0.2669 , valid MSE: 0.2727\nBatch loss: 0.372\n-- train MSE: 0.2697 , valid MSE: 0.2565\nBatch loss: 0.146\n-- train MSE: 0.2654 , valid MSE: 0.2476\nBatch loss: 0.286\n-- train MSE: 0.2655 , valid MSE: 0.2595\nBatch loss: 0.195\n-- train MSE: 0.2648 , valid MSE: 0.2689\nEpoch: 12\nBatch loss: 0.218\n-- train MSE: 0.2574 , valid MSE: 0.2539\nBatch loss: 0.119\n-- train MSE: 0.2609 , valid MSE: 0.2529\nBatch loss: 0.332\n-- train MSE: 0.2608 , valid MSE: 0.2385\nBatch loss: 0.374\n-- train MSE: 0.2534 , valid MSE: 0.2595\nBatch loss: 0.247\n-- train MSE: 0.2514 , valid MSE: 0.2395\nEpoch: 13\nBatch loss: 0.329\n-- train MSE: 0.2590 , valid MSE: 0.2444\nBatch loss: 0.160\n-- train MSE: 0.2487 , valid MSE: 0.2577\nBatch loss: 0.117\n-- train MSE: 0.2528 , valid MSE: 0.2607\nBatch loss: 0.337\n-- train MSE: 0.2450 , valid MSE: 0.2440\nBatch loss: 0.232\n-- train MSE: 0.2439 , valid MSE: 0.2545\nEpoch: 14\nBatch loss: 0.221\n-- train MSE: 0.2508 , valid MSE: 0.2642\nBatch loss: 0.217\n-- train MSE: 0.2414 , valid MSE: 0.2404\nBatch loss: 0.519\n-- train MSE: 0.2430 , valid MSE: 0.2262\nBatch loss: 0.246\n-- train MSE: 0.2389 , valid MSE: 0.2368\nBatch loss: 0.254\n-- train MSE: 0.2381 , valid MSE: 0.2354\nEpoch: 15\nBatch loss: 0.191\n-- train MSE: 0.2375 , valid MSE: 0.2398\nBatch loss: 0.196\n-- train MSE: 0.2360 , valid MSE: 0.2316\nBatch loss: 0.438\n-- train MSE: 0.2339 , valid MSE: 0.2314\nBatch loss: 0.198\n-- train MSE: 0.2311 , valid MSE: 0.2643\nBatch loss: 0.173\n-- train MSE: 0.2304 , valid MSE: 0.2214\nEpoch: 16\nBatch loss: 0.154\n-- train MSE: 0.2272 , valid MSE: 0.2323\nBatch loss: 0.272\n-- train MSE: 0.2277 , valid MSE: 0.2192\nBatch loss: 0.276\n-- train MSE: 0.2258 , valid MSE: 0.2126\nBatch loss: 0.203\n-- train MSE: 0.2201 , valid MSE: 0.2249\nBatch loss: 0.164\n-- train MSE: 0.2202 , valid MSE: 0.2278\nEpoch: 17\nBatch loss: 0.108\n-- train MSE: 0.2178 , valid MSE: 0.2104\nBatch loss: 0.398\n-- train MSE: 0.2171 , valid MSE: 0.2058\nBatch loss: 0.337\n-- train MSE: 0.2170 , valid MSE: 0.2149\nBatch loss: 0.216\n-- train MSE: 0.2162 , valid MSE: 0.2133\nBatch loss: 0.222\n-- train MSE: 0.2085 , valid MSE: 0.2184\nEpoch: 18\nBatch loss: 0.273\n-- train MSE: 0.2095 , valid MSE: 0.2036\nBatch loss: 0.232\n-- train MSE: 0.2069 , valid MSE: 0.2069\nBatch loss: 0.206\n-- train MSE: 0.2153 , valid MSE: 0.2327\nBatch loss: 0.181\n-- train MSE: 0.2089 , valid MSE: 0.2063\nBatch loss: 0.178\n-- train MSE: 0.2035 , valid MSE: 0.1999\nEpoch: 19\nBatch loss: 0.199\n-- train MSE: 0.2026 , valid MSE: 0.2089\nBatch loss: 0.178\n-- train MSE: 0.1980 , valid MSE: 0.2001\nBatch loss: 0.307\n-- train MSE: 0.2015 , valid MSE: 0.2001\nBatch loss: 0.214\n-- train MSE: 0.1954 , valid MSE: 0.1908\nBatch loss: 0.223\n-- train MSE: 0.1979 , valid MSE: 0.2018\nEpoch: 20\nBatch loss: 0.204\n-- train MSE: 0.1939 , valid MSE: 0.1959\nBatch loss: 0.260\n-- train MSE: 0.1941 , valid MSE: 0.2179\nBatch loss: 0.093\n-- train MSE: 0.1926 , valid MSE: 0.1902\nBatch loss: 0.124\n-- train MSE: 0.1897 , valid MSE: 0.1932\nBatch loss: 0.121\n-- train MSE: 0.1912 , valid MSE: 0.2193\nEpoch: 21\nBatch loss: 0.162\n-- train MSE: 0.1894 , valid MSE: 0.1822\nBatch loss: 0.129\n-- train MSE: 0.1863 , valid MSE: 0.1842\nBatch loss: 0.210\r",
          "output_type": "stream"
        },
        {
          "traceback": [
            "\u001b[0;31m---------------------------------------------------------------------------\u001b[0m",
            "\u001b[0;31mKeyboardInterrupt\u001b[0m                         Traceback (most recent call last)",
            "Cell \u001b[0;32mIn[24], line 3\u001b[0m\n\u001b[1;32m      1\u001b[0m \u001b[38;5;28;01mfor\u001b[39;00m epoch \u001b[38;5;129;01min\u001b[39;00m \u001b[38;5;28mrange\u001b[39m(\u001b[38;5;241m6\u001b[39m,\u001b[38;5;241m51\u001b[39m):\n\u001b[1;32m      2\u001b[0m     \u001b[38;5;28mprint\u001b[39m(\u001b[38;5;124mf\u001b[39m\u001b[38;5;124m\"\u001b[39m\u001b[38;5;124mEpoch: \u001b[39m\u001b[38;5;132;01m{\u001b[39;00mepoch\u001b[38;5;132;01m}\u001b[39;00m\u001b[38;5;124m\"\u001b[39m)\n\u001b[0;32m----> 3\u001b[0m     \u001b[43mfold\u001b[49m\u001b[43m(\u001b[49m\u001b[43m)\u001b[49m\n\u001b[1;32m      4\u001b[0m     state \u001b[38;5;241m=\u001b[39m {\n\u001b[1;32m      5\u001b[0m         \u001b[38;5;124m'\u001b[39m\u001b[38;5;124mepoch\u001b[39m\u001b[38;5;124m'\u001b[39m: epoch\u001b[38;5;241m+\u001b[39m\u001b[38;5;241m1\u001b[39m,\n\u001b[1;32m      6\u001b[0m         \u001b[38;5;124m'\u001b[39m\u001b[38;5;124mstate_dict\u001b[39m\u001b[38;5;124m'\u001b[39m: model\u001b[38;5;241m.\u001b[39mstate_dict(),\n\u001b[1;32m      7\u001b[0m         \u001b[38;5;124m'\u001b[39m\u001b[38;5;124moptimizer\u001b[39m\u001b[38;5;124m'\u001b[39m: optimizer\u001b[38;5;241m.\u001b[39mstate_dict(),\n\u001b[1;32m      8\u001b[0m     }\n\u001b[1;32m      9\u001b[0m     torch\u001b[38;5;241m.\u001b[39msave(state, \u001b[38;5;124mf\u001b[39m\u001b[38;5;124m\"\u001b[39m\u001b[38;5;124m./model\u001b[39m\u001b[38;5;132;01m{\u001b[39;00mepoch\u001b[38;5;132;01m}\u001b[39;00m\u001b[38;5;124m.t7\u001b[39m\u001b[38;5;124m\"\u001b[39m)\n",
            "Cell \u001b[0;32mIn[19], line 23\u001b[0m, in \u001b[0;36mfold\u001b[0;34m()\u001b[0m\n\u001b[1;32m     21\u001b[0m train_loader \u001b[38;5;241m=\u001b[39m DataLoader(train_set, batch_size\u001b[38;5;241m=\u001b[39m\u001b[38;5;241m256\u001b[39m, shuffle\u001b[38;5;241m=\u001b[39m\u001b[38;5;28;01mTrue\u001b[39;00m)\n\u001b[1;32m     22\u001b[0m val_loader \u001b[38;5;241m=\u001b[39m DataLoader(val_set, batch_size\u001b[38;5;241m=\u001b[39m\u001b[38;5;241m256\u001b[39m, shuffle\u001b[38;5;241m=\u001b[39m\u001b[38;5;28;01mTrue\u001b[39;00m)\n\u001b[0;32m---> 23\u001b[0m train_loss \u001b[38;5;241m=\u001b[39m \u001b[43mtrain\u001b[49m\u001b[43m(\u001b[49m\u001b[43mtrain_loader\u001b[49m\u001b[43m,\u001b[49m\u001b[43m \u001b[49m\u001b[43mmodel\u001b[49m\u001b[43m,\u001b[49m\u001b[43m \u001b[49m\u001b[43mdevice\u001b[49m\u001b[43m,\u001b[49m\u001b[43mloss_fn\u001b[49m\u001b[43m,\u001b[49m\u001b[43m \u001b[49m\u001b[43moptimizer\u001b[49m\u001b[43m,\u001b[49m\u001b[43m \u001b[49m\u001b[43mverbose\u001b[49m\u001b[38;5;241;43m=\u001b[39;49m\u001b[38;5;28;43;01mTrue\u001b[39;49;00m\u001b[43m)\u001b[49m\n\u001b[1;32m     24\u001b[0m train_score\u001b[38;5;241m.\u001b[39mat[i] \u001b[38;5;241m=\u001b[39m train_loss\n\u001b[1;32m     25\u001b[0m pred_valid, y_valid, valid_loss \u001b[38;5;241m=\u001b[39m evaluate(val_loader, model, device,loss_fn, partition\u001b[38;5;241m=\u001b[39m\u001b[38;5;124m'\u001b[39m\u001b[38;5;124mvalid\u001b[39m\u001b[38;5;124m'\u001b[39m)\n",
            "Cell \u001b[0;32mIn[17], line 12\u001b[0m, in \u001b[0;36mtrain\u001b[0;34m(data_loader, model, device, loss_fn, optimizer, verbose)\u001b[0m\n\u001b[1;32m      9\u001b[0m num_batch \u001b[38;5;241m=\u001b[39m \u001b[38;5;28mlen\u001b[39m(data_loader)\n\u001b[1;32m     10\u001b[0m \u001b[38;5;66;03m# Iterate in batches over the training dataset.\u001b[39;00m\n\u001b[1;32m     11\u001b[0m \u001b[38;5;66;03m# for batch, data in enumerate(dataloader):\u001b[39;00m\n\u001b[0;32m---> 12\u001b[0m \u001b[38;5;28;01mfor\u001b[39;00m batch, data \u001b[38;5;129;01min\u001b[39;00m \u001b[38;5;28menumerate\u001b[39m(data_loader):\n\u001b[1;32m     13\u001b[0m     xd, xp \u001b[38;5;241m=\u001b[39m data[\u001b[38;5;241m0\u001b[39m]\u001b[38;5;241m.\u001b[39mto(device), data[\u001b[38;5;241m1\u001b[39m]\u001b[38;5;241m.\u001b[39mto(device)\n\u001b[1;32m     14\u001b[0m     \u001b[38;5;66;03m# Forward\u001b[39;00m\n",
            "File \u001b[0;32m/opt/conda/lib/python3.10/site-packages/torch/utils/data/dataloader.py:634\u001b[0m, in \u001b[0;36m_BaseDataLoaderIter.__next__\u001b[0;34m(self)\u001b[0m\n\u001b[1;32m    631\u001b[0m \u001b[38;5;28;01mif\u001b[39;00m \u001b[38;5;28mself\u001b[39m\u001b[38;5;241m.\u001b[39m_sampler_iter \u001b[38;5;129;01mis\u001b[39;00m \u001b[38;5;28;01mNone\u001b[39;00m:\n\u001b[1;32m    632\u001b[0m     \u001b[38;5;66;03m# TODO(https://github.com/pytorch/pytorch/issues/76750)\u001b[39;00m\n\u001b[1;32m    633\u001b[0m     \u001b[38;5;28mself\u001b[39m\u001b[38;5;241m.\u001b[39m_reset()  \u001b[38;5;66;03m# type: ignore[call-arg]\u001b[39;00m\n\u001b[0;32m--> 634\u001b[0m data \u001b[38;5;241m=\u001b[39m \u001b[38;5;28;43mself\u001b[39;49m\u001b[38;5;241;43m.\u001b[39;49m\u001b[43m_next_data\u001b[49m\u001b[43m(\u001b[49m\u001b[43m)\u001b[49m\n\u001b[1;32m    635\u001b[0m \u001b[38;5;28mself\u001b[39m\u001b[38;5;241m.\u001b[39m_num_yielded \u001b[38;5;241m+\u001b[39m\u001b[38;5;241m=\u001b[39m \u001b[38;5;241m1\u001b[39m\n\u001b[1;32m    636\u001b[0m \u001b[38;5;28;01mif\u001b[39;00m \u001b[38;5;28mself\u001b[39m\u001b[38;5;241m.\u001b[39m_dataset_kind \u001b[38;5;241m==\u001b[39m _DatasetKind\u001b[38;5;241m.\u001b[39mIterable \u001b[38;5;129;01mand\u001b[39;00m \\\n\u001b[1;32m    637\u001b[0m         \u001b[38;5;28mself\u001b[39m\u001b[38;5;241m.\u001b[39m_IterableDataset_len_called \u001b[38;5;129;01mis\u001b[39;00m \u001b[38;5;129;01mnot\u001b[39;00m \u001b[38;5;28;01mNone\u001b[39;00m \u001b[38;5;129;01mand\u001b[39;00m \\\n\u001b[1;32m    638\u001b[0m         \u001b[38;5;28mself\u001b[39m\u001b[38;5;241m.\u001b[39m_num_yielded \u001b[38;5;241m>\u001b[39m \u001b[38;5;28mself\u001b[39m\u001b[38;5;241m.\u001b[39m_IterableDataset_len_called:\n",
            "File \u001b[0;32m/opt/conda/lib/python3.10/site-packages/torch/utils/data/dataloader.py:678\u001b[0m, in \u001b[0;36m_SingleProcessDataLoaderIter._next_data\u001b[0;34m(self)\u001b[0m\n\u001b[1;32m    676\u001b[0m \u001b[38;5;28;01mdef\u001b[39;00m \u001b[38;5;21m_next_data\u001b[39m(\u001b[38;5;28mself\u001b[39m):\n\u001b[1;32m    677\u001b[0m     index \u001b[38;5;241m=\u001b[39m \u001b[38;5;28mself\u001b[39m\u001b[38;5;241m.\u001b[39m_next_index()  \u001b[38;5;66;03m# may raise StopIteration\u001b[39;00m\n\u001b[0;32m--> 678\u001b[0m     data \u001b[38;5;241m=\u001b[39m \u001b[38;5;28;43mself\u001b[39;49m\u001b[38;5;241;43m.\u001b[39;49m\u001b[43m_dataset_fetcher\u001b[49m\u001b[38;5;241;43m.\u001b[39;49m\u001b[43mfetch\u001b[49m\u001b[43m(\u001b[49m\u001b[43mindex\u001b[49m\u001b[43m)\u001b[49m  \u001b[38;5;66;03m# may raise StopIteration\u001b[39;00m\n\u001b[1;32m    679\u001b[0m     \u001b[38;5;28;01mif\u001b[39;00m \u001b[38;5;28mself\u001b[39m\u001b[38;5;241m.\u001b[39m_pin_memory:\n\u001b[1;32m    680\u001b[0m         data \u001b[38;5;241m=\u001b[39m _utils\u001b[38;5;241m.\u001b[39mpin_memory\u001b[38;5;241m.\u001b[39mpin_memory(data, \u001b[38;5;28mself\u001b[39m\u001b[38;5;241m.\u001b[39m_pin_memory_device)\n",
            "File \u001b[0;32m/opt/conda/lib/python3.10/site-packages/torch/utils/data/_utils/fetch.py:54\u001b[0m, in \u001b[0;36m_MapDatasetFetcher.fetch\u001b[0;34m(self, possibly_batched_index)\u001b[0m\n\u001b[1;32m     52\u001b[0m \u001b[38;5;28;01melse\u001b[39;00m:\n\u001b[1;32m     53\u001b[0m     data \u001b[38;5;241m=\u001b[39m \u001b[38;5;28mself\u001b[39m\u001b[38;5;241m.\u001b[39mdataset[possibly_batched_index]\n\u001b[0;32m---> 54\u001b[0m \u001b[38;5;28;01mreturn\u001b[39;00m \u001b[38;5;28;43mself\u001b[39;49m\u001b[38;5;241;43m.\u001b[39;49m\u001b[43mcollate_fn\u001b[49m\u001b[43m(\u001b[49m\u001b[43mdata\u001b[49m\u001b[43m)\u001b[49m\n",
            "File \u001b[0;32m/opt/conda/lib/python3.10/site-packages/torch_geometric/loader/dataloader.py:35\u001b[0m, in \u001b[0;36mCollater.__call__\u001b[0;34m(self, batch)\u001b[0m\n\u001b[1;32m     33\u001b[0m     \u001b[38;5;28;01mreturn\u001b[39;00m \u001b[38;5;28mtype\u001b[39m(elem)(\u001b[38;5;241m*\u001b[39m(\u001b[38;5;28mself\u001b[39m(s) \u001b[38;5;28;01mfor\u001b[39;00m s \u001b[38;5;129;01min\u001b[39;00m \u001b[38;5;28mzip\u001b[39m(\u001b[38;5;241m*\u001b[39mbatch)))\n\u001b[1;32m     34\u001b[0m \u001b[38;5;28;01melif\u001b[39;00m \u001b[38;5;28misinstance\u001b[39m(elem, Sequence) \u001b[38;5;129;01mand\u001b[39;00m \u001b[38;5;129;01mnot\u001b[39;00m \u001b[38;5;28misinstance\u001b[39m(elem, \u001b[38;5;28mstr\u001b[39m):\n\u001b[0;32m---> 35\u001b[0m     \u001b[38;5;28;01mreturn\u001b[39;00m [\u001b[38;5;28mself\u001b[39m(s) \u001b[38;5;28;01mfor\u001b[39;00m s \u001b[38;5;129;01min\u001b[39;00m \u001b[38;5;28mzip\u001b[39m(\u001b[38;5;241m*\u001b[39mbatch)]\n\u001b[1;32m     37\u001b[0m \u001b[38;5;28;01mraise\u001b[39;00m \u001b[38;5;167;01mTypeError\u001b[39;00m(\u001b[38;5;124mf\u001b[39m\u001b[38;5;124m'\u001b[39m\u001b[38;5;124mDataLoader found invalid type: \u001b[39m\u001b[38;5;132;01m{\u001b[39;00m\u001b[38;5;28mtype\u001b[39m(elem)\u001b[38;5;132;01m}\u001b[39;00m\u001b[38;5;124m'\u001b[39m)\n",
            "File \u001b[0;32m/opt/conda/lib/python3.10/site-packages/torch_geometric/loader/dataloader.py:35\u001b[0m, in \u001b[0;36m<listcomp>\u001b[0;34m(.0)\u001b[0m\n\u001b[1;32m     33\u001b[0m     \u001b[38;5;28;01mreturn\u001b[39;00m \u001b[38;5;28mtype\u001b[39m(elem)(\u001b[38;5;241m*\u001b[39m(\u001b[38;5;28mself\u001b[39m(s) \u001b[38;5;28;01mfor\u001b[39;00m s \u001b[38;5;129;01min\u001b[39;00m \u001b[38;5;28mzip\u001b[39m(\u001b[38;5;241m*\u001b[39mbatch)))\n\u001b[1;32m     34\u001b[0m \u001b[38;5;28;01melif\u001b[39;00m \u001b[38;5;28misinstance\u001b[39m(elem, Sequence) \u001b[38;5;129;01mand\u001b[39;00m \u001b[38;5;129;01mnot\u001b[39;00m \u001b[38;5;28misinstance\u001b[39m(elem, \u001b[38;5;28mstr\u001b[39m):\n\u001b[0;32m---> 35\u001b[0m     \u001b[38;5;28;01mreturn\u001b[39;00m [\u001b[38;5;28;43mself\u001b[39;49m\u001b[43m(\u001b[49m\u001b[43ms\u001b[49m\u001b[43m)\u001b[49m \u001b[38;5;28;01mfor\u001b[39;00m s \u001b[38;5;129;01min\u001b[39;00m \u001b[38;5;28mzip\u001b[39m(\u001b[38;5;241m*\u001b[39mbatch)]\n\u001b[1;32m     37\u001b[0m \u001b[38;5;28;01mraise\u001b[39;00m \u001b[38;5;167;01mTypeError\u001b[39;00m(\u001b[38;5;124mf\u001b[39m\u001b[38;5;124m'\u001b[39m\u001b[38;5;124mDataLoader found invalid type: \u001b[39m\u001b[38;5;132;01m{\u001b[39;00m\u001b[38;5;28mtype\u001b[39m(elem)\u001b[38;5;132;01m}\u001b[39;00m\u001b[38;5;124m'\u001b[39m)\n",
            "File \u001b[0;32m/opt/conda/lib/python3.10/site-packages/torch_geometric/loader/dataloader.py:20\u001b[0m, in \u001b[0;36mCollater.__call__\u001b[0;34m(self, batch)\u001b[0m\n\u001b[1;32m     18\u001b[0m elem \u001b[38;5;241m=\u001b[39m batch[\u001b[38;5;241m0\u001b[39m]\n\u001b[1;32m     19\u001b[0m \u001b[38;5;28;01mif\u001b[39;00m \u001b[38;5;28misinstance\u001b[39m(elem, BaseData):\n\u001b[0;32m---> 20\u001b[0m     \u001b[38;5;28;01mreturn\u001b[39;00m \u001b[43mBatch\u001b[49m\u001b[38;5;241;43m.\u001b[39;49m\u001b[43mfrom_data_list\u001b[49m\u001b[43m(\u001b[49m\u001b[43mbatch\u001b[49m\u001b[43m,\u001b[49m\u001b[43m \u001b[49m\u001b[38;5;28;43mself\u001b[39;49m\u001b[38;5;241;43m.\u001b[39;49m\u001b[43mfollow_batch\u001b[49m\u001b[43m,\u001b[49m\n\u001b[1;32m     21\u001b[0m \u001b[43m                                \u001b[49m\u001b[38;5;28;43mself\u001b[39;49m\u001b[38;5;241;43m.\u001b[39;49m\u001b[43mexclude_keys\u001b[49m\u001b[43m)\u001b[49m\n\u001b[1;32m     22\u001b[0m \u001b[38;5;28;01melif\u001b[39;00m \u001b[38;5;28misinstance\u001b[39m(elem, torch\u001b[38;5;241m.\u001b[39mTensor):\n\u001b[1;32m     23\u001b[0m     \u001b[38;5;28;01mreturn\u001b[39;00m default_collate(batch)\n",
            "File \u001b[0;32m/opt/conda/lib/python3.10/site-packages/torch_geometric/data/batch.py:76\u001b[0m, in \u001b[0;36mBatch.from_data_list\u001b[0;34m(cls, data_list, follow_batch, exclude_keys)\u001b[0m\n\u001b[1;32m     64\u001b[0m \u001b[38;5;129m@classmethod\u001b[39m\n\u001b[1;32m     65\u001b[0m \u001b[38;5;28;01mdef\u001b[39;00m \u001b[38;5;21mfrom_data_list\u001b[39m(\u001b[38;5;28mcls\u001b[39m, data_list: List[BaseData],\n\u001b[1;32m     66\u001b[0m                    follow_batch: Optional[List[\u001b[38;5;28mstr\u001b[39m]] \u001b[38;5;241m=\u001b[39m \u001b[38;5;28;01mNone\u001b[39;00m,\n\u001b[1;32m     67\u001b[0m                    exclude_keys: Optional[List[\u001b[38;5;28mstr\u001b[39m]] \u001b[38;5;241m=\u001b[39m \u001b[38;5;28;01mNone\u001b[39;00m):\n\u001b[1;32m     68\u001b[0m \u001b[38;5;250m    \u001b[39m\u001b[38;5;124mr\u001b[39m\u001b[38;5;124;03m\"\"\"Constructs a :class:`~torch_geometric.data.Batch` object from a\u001b[39;00m\n\u001b[1;32m     69\u001b[0m \u001b[38;5;124;03m    Python list of :class:`~torch_geometric.data.Data` or\u001b[39;00m\n\u001b[1;32m     70\u001b[0m \u001b[38;5;124;03m    :class:`~torch_geometric.data.HeteroData` objects.\u001b[39;00m\n\u001b[0;32m   (...)\u001b[0m\n\u001b[1;32m     73\u001b[0m \u001b[38;5;124;03m    :obj:`follow_batch`.\u001b[39;00m\n\u001b[1;32m     74\u001b[0m \u001b[38;5;124;03m    Will exclude any keys given in :obj:`exclude_keys`.\"\"\"\u001b[39;00m\n\u001b[0;32m---> 76\u001b[0m     batch, slice_dict, inc_dict \u001b[38;5;241m=\u001b[39m \u001b[43mcollate\u001b[49m\u001b[43m(\u001b[49m\n\u001b[1;32m     77\u001b[0m \u001b[43m        \u001b[49m\u001b[38;5;28;43mcls\u001b[39;49m\u001b[43m,\u001b[49m\n\u001b[1;32m     78\u001b[0m \u001b[43m        \u001b[49m\u001b[43mdata_list\u001b[49m\u001b[38;5;241;43m=\u001b[39;49m\u001b[43mdata_list\u001b[49m\u001b[43m,\u001b[49m\n\u001b[1;32m     79\u001b[0m \u001b[43m        \u001b[49m\u001b[43mincrement\u001b[49m\u001b[38;5;241;43m=\u001b[39;49m\u001b[38;5;28;43;01mTrue\u001b[39;49;00m\u001b[43m,\u001b[49m\n\u001b[1;32m     80\u001b[0m \u001b[43m        \u001b[49m\u001b[43madd_batch\u001b[49m\u001b[38;5;241;43m=\u001b[39;49m\u001b[38;5;129;43;01mnot\u001b[39;49;00m\u001b[43m \u001b[49m\u001b[38;5;28;43misinstance\u001b[39;49m\u001b[43m(\u001b[49m\u001b[43mdata_list\u001b[49m\u001b[43m[\u001b[49m\u001b[38;5;241;43m0\u001b[39;49m\u001b[43m]\u001b[49m\u001b[43m,\u001b[49m\u001b[43m \u001b[49m\u001b[43mBatch\u001b[49m\u001b[43m)\u001b[49m\u001b[43m,\u001b[49m\n\u001b[1;32m     81\u001b[0m \u001b[43m        \u001b[49m\u001b[43mfollow_batch\u001b[49m\u001b[38;5;241;43m=\u001b[39;49m\u001b[43mfollow_batch\u001b[49m\u001b[43m,\u001b[49m\n\u001b[1;32m     82\u001b[0m \u001b[43m        \u001b[49m\u001b[43mexclude_keys\u001b[49m\u001b[38;5;241;43m=\u001b[39;49m\u001b[43mexclude_keys\u001b[49m\u001b[43m,\u001b[49m\n\u001b[1;32m     83\u001b[0m \u001b[43m    \u001b[49m\u001b[43m)\u001b[49m\n\u001b[1;32m     85\u001b[0m     batch\u001b[38;5;241m.\u001b[39m_num_graphs \u001b[38;5;241m=\u001b[39m \u001b[38;5;28mlen\u001b[39m(data_list)\n\u001b[1;32m     86\u001b[0m     batch\u001b[38;5;241m.\u001b[39m_slice_dict \u001b[38;5;241m=\u001b[39m slice_dict\n",
            "File \u001b[0;32m/opt/conda/lib/python3.10/site-packages/torch_geometric/data/collate.py:85\u001b[0m, in \u001b[0;36mcollate\u001b[0;34m(cls, data_list, increment, add_batch, follow_batch, exclude_keys)\u001b[0m\n\u001b[1;32m     82\u001b[0m     \u001b[38;5;28;01mcontinue\u001b[39;00m\n\u001b[1;32m     84\u001b[0m \u001b[38;5;66;03m# Collate attributes into a unified representation:\u001b[39;00m\n\u001b[0;32m---> 85\u001b[0m value, slices, incs \u001b[38;5;241m=\u001b[39m \u001b[43m_collate\u001b[49m\u001b[43m(\u001b[49m\u001b[43mattr\u001b[49m\u001b[43m,\u001b[49m\u001b[43m \u001b[49m\u001b[43mvalues\u001b[49m\u001b[43m,\u001b[49m\u001b[43m \u001b[49m\u001b[43mdata_list\u001b[49m\u001b[43m,\u001b[49m\u001b[43m \u001b[49m\u001b[43mstores\u001b[49m\u001b[43m,\u001b[49m\n\u001b[1;32m     86\u001b[0m \u001b[43m                               \u001b[49m\u001b[43mincrement\u001b[49m\u001b[43m)\u001b[49m\n\u001b[1;32m     88\u001b[0m \u001b[38;5;28;01mif\u001b[39;00m \u001b[38;5;28misinstance\u001b[39m(value, Tensor) \u001b[38;5;129;01mand\u001b[39;00m value\u001b[38;5;241m.\u001b[39mis_cuda:\n\u001b[1;32m     89\u001b[0m     device \u001b[38;5;241m=\u001b[39m value\u001b[38;5;241m.\u001b[39mdevice\n",
            "File \u001b[0;32m/opt/conda/lib/python3.10/site-packages/torch_geometric/data/collate.py:160\u001b[0m, in \u001b[0;36m_collate\u001b[0;34m(key, values, data_list, stores, increment)\u001b[0m\n\u001b[1;32m    157\u001b[0m     \u001b[38;5;28;01melse\u001b[39;00m:\n\u001b[1;32m    158\u001b[0m         out \u001b[38;5;241m=\u001b[39m \u001b[38;5;28;01mNone\u001b[39;00m\n\u001b[0;32m--> 160\u001b[0m     value \u001b[38;5;241m=\u001b[39m \u001b[43mtorch\u001b[49m\u001b[38;5;241;43m.\u001b[39;49m\u001b[43mcat\u001b[49m\u001b[43m(\u001b[49m\u001b[43mvalues\u001b[49m\u001b[43m,\u001b[49m\u001b[43m \u001b[49m\u001b[43mdim\u001b[49m\u001b[38;5;241;43m=\u001b[39;49m\u001b[43mcat_dim\u001b[49m\u001b[43m \u001b[49m\u001b[38;5;129;43;01mor\u001b[39;49;00m\u001b[43m \u001b[49m\u001b[38;5;241;43m0\u001b[39;49m\u001b[43m,\u001b[49m\u001b[43m \u001b[49m\u001b[43mout\u001b[49m\u001b[38;5;241;43m=\u001b[39;49m\u001b[43mout\u001b[49m\u001b[43m)\u001b[49m\n\u001b[1;32m    161\u001b[0m     \u001b[38;5;28;01mreturn\u001b[39;00m value, slices, incs\n\u001b[1;32m    163\u001b[0m \u001b[38;5;28;01melif\u001b[39;00m \u001b[38;5;28misinstance\u001b[39m(elem, SparseTensor) \u001b[38;5;129;01mand\u001b[39;00m increment:\n\u001b[1;32m    164\u001b[0m     \u001b[38;5;66;03m# Concatenate a list of `SparseTensor` along the `cat_dim`.\u001b[39;00m\n\u001b[1;32m    165\u001b[0m     \u001b[38;5;66;03m# NOTE: `cat_dim` may return a tuple to allow for diagonal stacking.\u001b[39;00m\n",
            "\u001b[0;31mKeyboardInterrupt\u001b[0m: "
          ],
          "ename": "KeyboardInterrupt",
          "evalue": "",
          "output_type": "error"
        }
      ]
    },
    {
      "cell_type": "markdown",
      "source": [
        "# Plotting of train and valid MSE"
      ],
      "metadata": {
        "id": "KBQKL5_a_mDY"
      }
    },
    {
      "cell_type": "code",
      "source": [
        "import matplotlib.pyplot as plt\n",
        "# this data, i have copied it from the log which you can see above as i forgot to save it in history\n",
        "arr = [0.5258 ,0.6094,0.4942 ,0.5902,0.4794 ,0.4309,0.4415 ,0.4127,0.4559 ,0.3963,0.4309 ,0.4379,0.4399 ,0.7283,0.4547 ,0.3973,0.4334 ,0.4121,0.4303 ,0.3728,0.4288 ,0.4276,0.4153 ,0.3750,0.4227 ,0.3856,0.4018 ,0.3739,0.3951 ,0.4623,0.4203 ,0.7749,0.4171 ,0.5350,0.4168 ,0.3822,0.3889 ,0.3905,0.3982 ,0.3759,0.3869 ,0.3541,0.3903 ,0.3671,0.3901 ,0.4245,0.3833 ,0.4105,0.3747 ,0.3642,0.3769 ,0.4354,0.3720 ,0.4513,0.3681 ,0.3857,0.3564 ,0.3399,0.3382 ,0.3175,0.3359 ,0.4180,0.3196 ,0.3119,0.3244 ,0.2929,0.3056 ,0.3017,0.3081 ,0.3008,0.3052 ,0.2907,0.2983 ,0.2910,0.2938 ,0.2844,0.2894 ,0.2817,0.2825 ,0.2804,0.2938 ,0.2671,0.2805 ,0.2824,0.2874 ,0.3443,0.2770 ,0.2751,0.2742 ,0.2709,0.2769 ,0.2893,0.2713 ,0.2814,0.2732 ,0.2642,0.2669 ,0.2727,0.2697 ,0.2565,0.2654 ,0.2476,0.2655 ,0.2595,0.2648 ,0.2689,0.2574 ,0.2539,0.2609 ,0.2529,0.2608 ,0.2385,0.2534 ,0.2595,0.2514 ,0.2395,0.2590 ,0.2444,0.2487 ,0.2577,0.2528 ,0.2607,0.2450 ,0.2440,0.2439 ,0.2545,0.2508 ,0.2642,0.2414 ,0.2404,0.2430 ,0.2262,0.2389 ,0.2368,0.2381 ,0.2354,0.2375 ,0.2398,0.2360 ,0.2316,0.2339 ,0.2314,0.2311 ,0.2643,0.2304 ,0.2214,0.2272 ,0.2323,0.2277 ,0.2192,0.2258 ,0.2126,0.2201 ,0.2249,0.2202 ,0.2278,0.2178 ,0.2104,0.2171 ,0.2058,0.2170 ,0.2149,0.2162 ,0.2133,0.2085 ,0.2184,0.2095 ,0.2036,0.2069 ,0.2069,0.2153 ,0.2327,0.2089 ,0.2063,0.2035 ,0.1999,0.2026 ,0.2089,0.1980 ,0.2001,0.2015 ,0.2001,0.1954 ,0.1908,0.1979 ,0.2018,0.1939 ,0.1959,0.1941 ,0.2179,0.1926 ,0.1902,0.1897 ,0.1932,0.1912 ,0.2193,0.1894 ,0.1822,0.1863 ,0.1842]\n",
        "train_mse = [arr[i] for i in range(0, len(arr), 2)]\n",
        "valid_mse = [arr[i] for i in range(1, len(arr), 2)]\n",
        "\n",
        "x = list(range(len(train_mse)))\n",
        "\n",
        "plt.figure(figsize=(8, 8))\n",
        "plt.title(\"Training and Validation MSE\")\n",
        "plt.xlabel(\"Epoch\")\n",
        "plt.ylabel(\"MSE\")\n",
        "plt.plot(x, train_mse, label=\"train mse\")\n",
        "plt.plot(x, valid_mse, label=\"valid mse\")\n",
        "plt.legend()\n",
        "plt.show()\n"
      ],
      "metadata": {
        "execution": {
          "iopub.status.busy": "2023-05-13T11:48:23.611017Z",
          "iopub.execute_input": "2023-05-13T11:48:23.611385Z",
          "iopub.status.idle": "2023-05-13T11:48:23.930237Z",
          "shell.execute_reply.started": "2023-05-13T11:48:23.611354Z",
          "shell.execute_reply": "2023-05-13T11:48:23.929354Z"
        },
        "trusted": true,
        "id": "mK2OqWz__mDY",
        "outputId": "3964cae1-e3b3-4b32-cf77-cc8fca554c2b"
      },
      "execution_count": null,
      "outputs": [
        {
          "output_type": "display_data",
          "data": {
            "text/plain": "<Figure size 800x800 with 1 Axes>",
            "image/png": "[encoded data removed]"
          },
          "metadata": {}
        }
      ]
    },
    {
      "cell_type": "code",
      "source": [
        "class TestDataset(GraphDataset):\n",
        "    def __init__(self, root):\n",
        "        self.partition = 'train'\n",
        "        self.partition_kind = 'pair'\n",
        "        self.dataset_name = 'KIBA'\n",
        "        self.raw_file_name = f'DeepDTA_KIBA_test.tsv'\n",
        "        self.data_splits = (1.0, 0., 0.)\n",
        "        self.drug_encoder_name = 'DeepChem/ChemBERTa-77M-MTR'\n",
        "        self.prot_encoder_name = 'bert-base'\n",
        "        self.drug_encoder = AutoModel.from_pretrained(self.drug_encoder_name)\n",
        "        self.drug_tokenizer = AutoTokenizer.from_pretrained(self.drug_encoder_name)\n",
        "        self.prot_encoder = ProteinBertModel.from_pretrained(self.prot_encoder_name)\n",
        "        self.prot_tokenizer = TAPETokenizer(vocab='iupac')\n",
        "\n",
        "        # 384 for drug features embedding\n",
        "        # 786 for protein features embedding\n",
        "        self.num_drug_features = self.drug_encoder.config.hidden_size\n",
        "        self.num_prot_features = self.prot_encoder.config.hidden_size\n",
        "\n",
        "        super(TestDataset, self).__init__(root, None, None)\n",
        "\n",
        "        # Split data into train/valid/test sets\n",
        "        train, valid, n_drug = split_data(self.data_splits,self.raw_data)\n",
        "        self.n_drug = n_drug\n",
        "        self.train_ids, self.train_drugs = train['ids'], train['drugs']\n",
        "        self.valid_ids, self.valid_drugs = valid['ids'], valid['drugs']\n",
        "#         self.test_ids, self.test_drugs = test['ids'], test['drugs']\n",
        "\n",
        "    @property\n",
        "    def raw_file_names(self):\n",
        "        return self.raw_file_name\n",
        "\n",
        "    @property\n",
        "    def processed_file_names(self):\n",
        "        self.raw_data = pd.read_csv(osp.join(self.raw_dir, self.raw_file_name),\n",
        "                                    sep='\\t')\n",
        "        self.prots = self.raw_data['Prot_ID'].unique()\n",
        "        self.drugs = self.raw_data['Drug_ID'].unique()\n",
        "        self.n_prot, self.n_drug = len(self.prots), len(self.drugs)\n",
        "        self.n_total = self.n_prot + self.n_drug\n",
        "        prot_embed_fnames = [self._build_embed_fname(id) for id in self.prots]\n",
        "        drug_embed_fnames = [self._build_embed_fname(id) for id in self.drugs]\n",
        "\n",
        "        return prot_embed_fnames + drug_embed_fnames\n",
        "\n",
        "    def download(self):\n",
        "        pass\n",
        "\n",
        "    def _build_embed_fname(self, ID):\n",
        "        return f'{self.dataset_name}_{ID}_embedded.pt'\n",
        "\n",
        "    def process(self):\n",
        "\n",
        "        vocab = self.drug_tokenizer.vocab\n",
        "        reverse_vocab = {key: val for val, key in vocab.items()}\n",
        "        self.prot_encoder.to('cuda')\n",
        "        self.drug_encoder.to('cuda')\n",
        "        processed_prots, processed_drugs = [], []\n",
        "        for idx, row in tqdm(self.raw_data.iterrows(), total=self.n_total):\n",
        "            with torch.no_grad():\n",
        "                # Only embed a protein if it hasn't already been embedded and saved\n",
        "                if row[\"Prot_ID\"] not in processed_prots:\n",
        "                    tokens = torch.tensor(self.prot_tokenizer.encode(row['Protein'])).to('cuda')\n",
        "                    embed = self.prot_encoder(tokens.reshape(1, -1))[0].squeeze()\n",
        "                    embed = embed.to('cpu')\n",
        "                    edges = edges_from_protein_sequence(row['Protein'])\n",
        "                    data = {'embeddings': Data(x=embed[1:-1], edge_index=edges),'Prot_ID': row['Prot_ID']}\n",
        "                    fname = self._build_embed_fname(row[\"Prot_ID\"])\n",
        "                    torch.save(data, osp.join(self.processed_dir, fname))\n",
        "                    processed_prots.append(row['Prot_ID'])\n",
        "\n",
        "              # Only embed a drug if it hasn't already been embedded and saved\n",
        "                if row['Drug_ID'] not in processed_drugs:\n",
        "                    tokens = torch.tensor(self.drug_tokenizer.encode(row['Drug'],truncation=True, max_length=512)).to('cuda')\n",
        "                    embed = self.drug_encoder(tokens.reshape(1, -1)).last_hidden_state\n",
        "                    embed = embed.to('cpu')\n",
        "                    edges, index_map = smiles_edges_to_token_edges(row['Drug'],self.drug_tokenizer,reverse_vocab)\n",
        "                    data = {'embeddings':\n",
        "                          Data(x=embed.squeeze(),\n",
        "                                edge_index=torch.tensor(edges, dtype=torch.long)),\n",
        "                          'Drug_ID': row['Drug_ID'],\n",
        "                          'node_ids': index_map['keep'].values.astype('bool')}\n",
        "                    fname = self._build_embed_fname(row[\"Drug_ID\"])\n",
        "                    torch.save(data, osp.join(self.processed_dir, fname))\n",
        "                    processed_drugs.append(row['Drug_ID'])\n",
        "\n",
        "    def len(self):\n",
        "\n",
        "        if self.partition == 'train':\n",
        "            n = len(self.train_ids)\n",
        "        elif self.partition == 'valid':\n",
        "            n = len(self.valid_ids)\n",
        "        elif self.partition == 'test':\n",
        "            n = len(self.test_ids)\n",
        "        else:\n",
        "            n = len(self.raw_data.index)\n",
        "\n",
        "        return n\n",
        "\n",
        "    def get(self, idx):\n",
        "\n",
        "        if self.partition == 'train':\n",
        "            row = self.raw_data.loc[self.train_ids[idx]]\n",
        "        elif self.partition == 'valid':\n",
        "            row = self.raw_data.loc[self.valid_ids[idx]]\n",
        "        elif self.partition == 'test':\n",
        "            row = self.raw_data.loc[self.test_ids[idx]]\n",
        "        else:\n",
        "            row = self.raw_data.loc[self.raw_data.index[idx]]\n",
        "\n",
        "        prot_embed_fname = osp.join(self.processed_dir,\n",
        "                                    self._build_embed_fname(row[\"Prot_ID\"]))\n",
        "        prot_data = torch.load(prot_embed_fname)\n",
        "\n",
        "        drug_embed_fname = osp.join(self.processed_dir,\n",
        "                                    self._build_embed_fname(row[\"Drug_ID\"]))\n",
        "        drug_data = torch.load(drug_embed_fname)\n",
        "\n",
        "        \n",
        "        \n",
        "        y = torch.tensor([row['Y']], dtype=torch.float32)\n",
        "\n",
        "        meta = {'Drug_ID': str(drug_data['Drug_ID']),\n",
        "                'Prot_ID': str(prot_data['Prot_ID']),\n",
        "                'raw_Drug_ID': str(row['Drug_ID']),\n",
        "                'Drug': row['Drug'],\n",
        "                'raw_Prot_ID': str(row['Prot_ID']),\n",
        "                'Prot': row['Protein'],\n",
        "                'Y': row['Y']}\n",
        "\n",
        "        drug_data['embeddings'].x.requires_grad = False\n",
        "        prot_data['embeddings'].x.requires_grad = False\n",
        "\n",
        "        return drug_data['embeddings'], prot_data['embeddings'], y, meta\n",
        "\n"
      ],
      "metadata": {
        "execution": {
          "iopub.status.busy": "2023-05-12T16:04:53.215918Z",
          "iopub.execute_input": "2023-05-12T16:04:53.216414Z",
          "iopub.status.idle": "2023-05-12T16:04:53.263560Z",
          "shell.execute_reply.started": "2023-05-12T16:04:53.216371Z",
          "shell.execute_reply": "2023-05-12T16:04:53.262285Z"
        },
        "trusted": true,
        "id": "LngqwNRy_mDY"
      },
      "execution_count": null,
      "outputs": []
    },
    {
      "cell_type": "code",
      "source": [
        "test_dataset = TestDataset(root=\".\")\n"
      ],
      "metadata": {
        "execution": {
          "iopub.status.busy": "2023-05-12T15:45:57.714531Z",
          "iopub.execute_input": "2023-05-12T15:45:57.714924Z",
          "iopub.status.idle": "2023-05-12T15:46:00.360198Z",
          "shell.execute_reply.started": "2023-05-12T15:45:57.714888Z",
          "shell.execute_reply": "2023-05-12T15:46:00.359147Z"
        },
        "trusted": true,
        "id": "ale89CjL_mDZ",
        "outputId": "ab4cbc81-9ba4-4dfe-c25d-72f867a1d2c2"
      },
      "execution_count": null,
      "outputs": [
        {
          "name": "stderr",
          "text": "Some weights of the model checkpoint at DeepChem/ChemBERTa-77M-MTR were not used when initializing RobertaModel: ['regression.dense.weight', 'regression.out_proj.bias', 'norm_mean', 'norm_std', 'regression.dense.bias', 'regression.out_proj.weight']\n- This IS expected if you are initializing RobertaModel from the checkpoint of a model trained on another task or with another architecture (e.g. initializing a BertForSequenceClassification model from a BertForPreTraining model).\n- This IS NOT expected if you are initializing RobertaModel from the checkpoint of a model that you expect to be exactly identical (initializing a BertForSequenceClassification model from a BertForSequenceClassification model).\n",
          "output_type": "stream"
        }
      ]
    },
    {
      "cell_type": "code",
      "source": [
        "data_loader = DataLoader(dataset, batch_size=256, shuffle=True)\n",
        "pred_test, y_test, test_loss = evaluate(data_loader, model, device,loss_fn, partition='train')\n",
        "print(test_loss)"
      ],
      "metadata": {
        "execution": {
          "iopub.status.busy": "2023-05-13T11:45:36.802558Z",
          "iopub.execute_input": "2023-05-13T11:45:36.802926Z",
          "iopub.status.idle": "2023-05-13T11:45:36.809434Z",
          "shell.execute_reply.started": "2023-05-13T11:45:36.802896Z",
          "shell.execute_reply": "2023-05-13T11:45:36.807420Z"
        },
        "trusted": true,
        "id": "nLsBQWBD_mDZ",
        "outputId": "0c355910-a126-45b1-d8be-473823ca3ba7"
      },
      "execution_count": null,
      "outputs": [
        {
          "name": "stdout",
          "text": "0.18125165327217266\n",
          "output_type": "stream"
        }
      ]
    },
    {
      "cell_type": "code",
      "source": [
        "from tqdm import tqdm\n",
        "def concordance_index(y_test, pred_test):\n",
        "    CI = 0\n",
        "    n = len(y_test)\n",
        "    for i in range(n):\n",
        "        for j in range(i + 1, n):\n",
        "            lo = i\n",
        "            hi = j\n",
        "            if y_test[i] > y_test[j]:\n",
        "                lo, hi = hi, lo\n",
        "            val = pred_test[hi] - pred_test[lo]\n",
        "            if val > 0 :\n",
        "                CI += 1\n",
        "            elif val == 0 :\n",
        "                CI += 0.5\n",
        "    CI /= n*(n-1)/2\n",
        "    return CI\n"
      ],
      "metadata": {
        "execution": {
          "iopub.status.busy": "2023-05-13T11:43:32.162335Z",
          "iopub.execute_input": "2023-05-13T11:43:32.162697Z",
          "iopub.status.idle": "2023-05-13T11:43:32.168275Z",
          "shell.execute_reply.started": "2023-05-13T11:43:32.162661Z",
          "shell.execute_reply": "2023-05-13T11:43:32.167188Z"
        },
        "trusted": true,
        "id": "AVvBC6Kx_mDZ"
      },
      "execution_count": null,
      "outputs": []
    },
    {
      "cell_type": "code",
      "source": [
        "ci_test = concordance_index(y_test, pred_test)\n",
        "print(ci_test)"
      ],
      "metadata": {
        "execution": {
          "iopub.status.busy": "2023-05-13T11:44:52.625157Z",
          "iopub.execute_input": "2023-05-13T11:44:52.625898Z",
          "iopub.status.idle": "2023-05-13T11:44:52.631497Z",
          "shell.execute_reply.started": "2023-05-13T11:44:52.625865Z",
          "shell.execute_reply": "2023-05-13T11:44:52.630610Z"
        },
        "trusted": true,
        "id": "LF6n7wbY_mDa",
        "outputId": "0c95212f-228d-4bf2-f287-7aadde447bae"
      },
      "execution_count": null,
      "outputs": [
        {
          "name": "stdout",
          "text": "0.8712244532794694\n",
          "output_type": "stream"
        }
      ]
    },
    {
      "cell_type": "code",
      "source": [],
      "metadata": {
        "id": "76oz0tj8_mDa"
      },
      "execution_count": null,
      "outputs": []
    },
    {
      "cell_type": "code",
      "source": [],
      "metadata": {
        "id": "UGPlkgBh_mDa"
      },
      "execution_count": null,
      "outputs": []
    }
  ]
}